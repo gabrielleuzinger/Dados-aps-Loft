{
 "cells": [
  {
   "cell_type": "markdown",
   "metadata": {},
   "source": [
    "# Web Scraping de vagas de Data Science no Linkedin"
   ]
  },
  {
   "cell_type": "markdown",
   "metadata": {},
   "source": [
    "Este notebook é parte das tarefas do curso de Data Science da [Awari](https://awari.com.br/). **O objetivo deste projeto é fazer o web scraping de vagas de Cientista de Dados em São Paulo no Linkedin e criar uma nuvem de palavras**.\n",
    "\n",
    "Foram recuperados 16380 apartamentos em 99 bairros de São Paulo."
   ]
  },
  {
   "cell_type": "code",
   "execution_count": 1,
   "metadata": {},
   "outputs": [
    {
     "name": "stdout",
     "output_type": "stream",
     "text": [
      "Requirement already satisfied: selenium in /Users/leuzinger/opt/anaconda3/lib/python3.8/site-packages (3.141.0)\n",
      "Requirement already satisfied: urllib3 in /Users/leuzinger/opt/anaconda3/lib/python3.8/site-packages (from selenium) (1.25.11)\n",
      "Requirement already satisfied: webdriver-manager in /Users/leuzinger/opt/anaconda3/lib/python3.8/site-packages (3.4.2)\n",
      "Requirement already satisfied: crayons in /Users/leuzinger/opt/anaconda3/lib/python3.8/site-packages (from webdriver-manager) (0.4.0)\n",
      "Requirement already satisfied: configparser in /Users/leuzinger/opt/anaconda3/lib/python3.8/site-packages (from webdriver-manager) (5.0.2)\n",
      "Requirement already satisfied: requests in /Users/leuzinger/opt/anaconda3/lib/python3.8/site-packages (from webdriver-manager) (2.24.0)\n",
      "Requirement already satisfied: colorama in /Users/leuzinger/opt/anaconda3/lib/python3.8/site-packages (from crayons->webdriver-manager) (0.4.4)\n",
      "Requirement already satisfied: idna<3,>=2.5 in /Users/leuzinger/opt/anaconda3/lib/python3.8/site-packages (from requests->webdriver-manager) (2.10)\n",
      "Requirement already satisfied: urllib3!=1.25.0,!=1.25.1,<1.26,>=1.21.1 in /Users/leuzinger/opt/anaconda3/lib/python3.8/site-packages (from requests->webdriver-manager) (1.25.11)\n",
      "Requirement already satisfied: certifi>=2017.4.17 in /Users/leuzinger/opt/anaconda3/lib/python3.8/site-packages (from requests->webdriver-manager) (2020.6.20)\n",
      "Requirement already satisfied: chardet<4,>=3.0.2 in /Users/leuzinger/opt/anaconda3/lib/python3.8/site-packages (from requests->webdriver-manager) (3.0.4)\n",
      "Requirement already satisfied: wordcloud in /Users/leuzinger/opt/anaconda3/lib/python3.8/site-packages (1.8.1)\n",
      "Requirement already satisfied: matplotlib in /Users/leuzinger/opt/anaconda3/lib/python3.8/site-packages (from wordcloud) (3.3.2)\n",
      "Requirement already satisfied: numpy>=1.6.1 in /Users/leuzinger/opt/anaconda3/lib/python3.8/site-packages (from wordcloud) (1.19.2)\n",
      "Requirement already satisfied: pillow in /Users/leuzinger/opt/anaconda3/lib/python3.8/site-packages (from wordcloud) (8.0.1)\n",
      "Requirement already satisfied: kiwisolver>=1.0.1 in /Users/leuzinger/opt/anaconda3/lib/python3.8/site-packages (from matplotlib->wordcloud) (1.3.0)\n",
      "Requirement already satisfied: certifi>=2020.06.20 in /Users/leuzinger/opt/anaconda3/lib/python3.8/site-packages (from matplotlib->wordcloud) (2020.6.20)\n",
      "Requirement already satisfied: pyparsing!=2.0.4,!=2.1.2,!=2.1.6,>=2.0.3 in /Users/leuzinger/opt/anaconda3/lib/python3.8/site-packages (from matplotlib->wordcloud) (2.4.7)\n",
      "Requirement already satisfied: python-dateutil>=2.1 in /Users/leuzinger/opt/anaconda3/lib/python3.8/site-packages (from matplotlib->wordcloud) (2.8.1)\n",
      "Requirement already satisfied: cycler>=0.10 in /Users/leuzinger/opt/anaconda3/lib/python3.8/site-packages (from matplotlib->wordcloud) (0.10.0)\n",
      "Requirement already satisfied: six>=1.5 in /Users/leuzinger/opt/anaconda3/lib/python3.8/site-packages (from python-dateutil>=2.1->matplotlib->wordcloud) (1.15.0)\n"
     ]
    }
   ],
   "source": [
    "!pip install selenium\n",
    "!pip install webdriver-manager\n",
    "!pip install wordcloud\n",
    "\n",
    "from selenium import webdriver\n",
    "from webdriver_manager.chrome import ChromeDriverManager\n",
    "from selenium.webdriver.common.keys import Keys\n",
    "from selenium.webdriver.common.action_chains import ActionChains\n",
    "from time import sleep\n",
    "from selenium.webdriver.support.ui import WebDriverWait\n",
    "from selenium.webdriver.support import expected_conditions as EC\n",
    "from selenium.webdriver.common.by import By\n",
    "import matplotlib.pyplot as plt\n",
    "import pandas as pd"
   ]
  },
  {
   "cell_type": "code",
   "execution_count": 6,
   "metadata": {},
   "outputs": [
    {
     "name": "stderr",
     "output_type": "stream",
     "text": [
      "\n",
      "\n",
      "INFO:WDM:\n",
      "\n",
      "====== WebDriver manager ======\n",
      "INFO:WDM:====== WebDriver manager ======\n",
      "Current google-chrome version is 91.0.4472\n",
      "INFO:WDM:Current google-chrome version is 91.0.4472\n",
      "Get LATEST driver version for 91.0.4472\n",
      "INFO:WDM:Get LATEST driver version for 91.0.4472\n",
      "Driver [/Users/leuzinger/.wdm/drivers/chromedriver/mac64/91.0.4472.101/chromedriver] found in cache\n",
      "INFO:WDM:Driver [/Users/leuzinger/.wdm/drivers/chromedriver/mac64/91.0.4472.101/chromedriver] found in cache\n"
     ]
    },
    {
     "name": "stdout",
     "output_type": "stream",
     "text": [
      "99\n"
     ]
    }
   ],
   "source": [
    "#abrir a página da Loft\n",
    "driver = webdriver.Chrome(ChromeDriverManager().install())\n",
    "driver.implicitly_wait(10)\n",
    "driver.get(\"https://loft.com.br/apartamentos/sao-paulo-sp/\")\n",
    "\n",
    "'''\n",
    "#filtrar aps em SP\n",
    "SP_botão = driver.find_elements_by_xpath('//*[@id=\"__next\"]/section/div[1]/article/div/div[2]/div[2]/form/div/div[1]')[0]\n",
    "SP_botão.click()\n",
    "buscar_botão = driver.find_element_by_xpath('//*[@id=\"__next\"]/section/div[1]/article/div/div[2]/div[2]/form/button')\n",
    "driver.execute_script(\"arguments[0].click();\", buscar_botão)\n",
    "\n",
    "\n",
    "try:\n",
    "    buscar_botão = WebDriverWait(driver, 20).until(EC.element_to_be_clickable((By.XPATH,'//*[@id=\"__next\"]/section/div[1]/article/div/div[2]/div[2]/form/button')))\n",
    "finally:                                            \n",
    "    buscar_botão = driver.find_elements_by_xpath('//*[@id=\"__next\"]/section/div[1]/article/div/div[2]/div[2]/form/button')[0]\n",
    "    print(buscar_botão)\n",
    "    buscar_botão.click()\n",
    "'''\n",
    "\n",
    "#dados_ap = pd.DataFrame(columns=['preço','endereço','área','quartos','vagas'])\n",
    "\n",
    "#pegar número total de bairros\n",
    "bairros_botão = driver.find_elements_by_xpath('//*[@id=\"__next\"]/section/div/div/div[1]/div[2]/div/div/div[2]/div[2]/div')[0]\n",
    "bairros_botão.click()\n",
    "bairros = driver.find_elements_by_class_name('MuiTypography-root.MuiFormControlLabel-label.MuiTypography-body1')\n",
    "tot_bairros = len(bairros)\n",
    "print(tot_bairros)\n",
    "driver.quit()"
   ]
  },
  {
   "cell_type": "code",
   "execution_count": 16,
   "metadata": {},
   "outputs": [
    {
     "name": "stderr",
     "output_type": "stream",
     "text": [
      "\n",
      "\n",
      "INFO:WDM:\n",
      "\n",
      "====== WebDriver manager ======\n",
      "INFO:WDM:====== WebDriver manager ======\n",
      "Current google-chrome version is 91.0.4472\n",
      "INFO:WDM:Current google-chrome version is 91.0.4472\n",
      "Get LATEST driver version for 91.0.4472\n",
      "INFO:WDM:Get LATEST driver version for 91.0.4472\n",
      "Driver [/Users/leuzinger/.wdm/drivers/chromedriver/mac64/91.0.4472.101/chromedriver] found in cache\n",
      "INFO:WDM:Driver [/Users/leuzinger/.wdm/drivers/chromedriver/mac64/91.0.4472.101/chromedriver] found in cache\n"
     ]
    },
    {
     "name": "stdout",
     "output_type": "stream",
     "text": [
      "1 Aclimação\n",
      "306\n",
      "Resultados:  311\n",
      "7 ['Quer descobrir seu potencial de compra?', 'Simular financiamento']\n",
      "8 ['Imóveis escolhidos a dedo pra você.', 'Saber mais detalhes']\n"
     ]
    },
    {
     "name": "stderr",
     "output_type": "stream",
     "text": [
      "\n",
      "\n",
      "INFO:WDM:\n",
      "\n",
      "====== WebDriver manager ======\n",
      "INFO:WDM:====== WebDriver manager ======\n",
      "Current google-chrome version is 91.0.4472\n",
      "INFO:WDM:Current google-chrome version is 91.0.4472\n",
      "Get LATEST driver version for 91.0.4472\n",
      "INFO:WDM:Get LATEST driver version for 91.0.4472\n",
      "Driver [/Users/leuzinger/.wdm/drivers/chromedriver/mac64/91.0.4472.101/chromedriver] found in cache\n",
      "INFO:WDM:Driver [/Users/leuzinger/.wdm/drivers/chromedriver/mac64/91.0.4472.101/chromedriver] found in cache\n"
     ]
    },
    {
     "name": "stdout",
     "output_type": "stream",
     "text": [
      "2 Água Rasa\n",
      "184\n",
      "Resultados:  186\n",
      "7 ['Quer descobrir seu potencial de compra?', 'Simular financiamento']\n",
      "8 ['Imóveis escolhidos a dedo pra você.', 'Saber mais detalhes']\n"
     ]
    },
    {
     "name": "stderr",
     "output_type": "stream",
     "text": [
      "\n",
      "\n",
      "INFO:WDM:\n",
      "\n",
      "====== WebDriver manager ======\n",
      "INFO:WDM:====== WebDriver manager ======\n",
      "Current google-chrome version is 91.0.4472\n",
      "INFO:WDM:Current google-chrome version is 91.0.4472\n",
      "Get LATEST driver version for 91.0.4472\n",
      "INFO:WDM:Get LATEST driver version for 91.0.4472\n",
      "Driver [/Users/leuzinger/.wdm/drivers/chromedriver/mac64/91.0.4472.101/chromedriver] found in cache\n",
      "INFO:WDM:Driver [/Users/leuzinger/.wdm/drivers/chromedriver/mac64/91.0.4472.101/chromedriver] found in cache\n"
     ]
    },
    {
     "name": "stdout",
     "output_type": "stream",
     "text": [
      "3 Alto Da Lapa\n",
      "39\n",
      "Resultados:  41\n",
      "7 ['Quer descobrir seu potencial de compra?', 'Simular financiamento']\n",
      "8 ['Imóveis escolhidos a dedo pra você.', 'Saber mais detalhes']\n"
     ]
    },
    {
     "name": "stderr",
     "output_type": "stream",
     "text": [
      "\n",
      "\n",
      "INFO:WDM:\n",
      "\n",
      "====== WebDriver manager ======\n",
      "INFO:WDM:====== WebDriver manager ======\n",
      "Current google-chrome version is 91.0.4472\n",
      "INFO:WDM:Current google-chrome version is 91.0.4472\n",
      "Get LATEST driver version for 91.0.4472\n",
      "INFO:WDM:Get LATEST driver version for 91.0.4472\n",
      "Driver [/Users/leuzinger/.wdm/drivers/chromedriver/mac64/91.0.4472.101/chromedriver] found in cache\n",
      "INFO:WDM:Driver [/Users/leuzinger/.wdm/drivers/chromedriver/mac64/91.0.4472.101/chromedriver] found in cache\n"
     ]
    },
    {
     "name": "stdout",
     "output_type": "stream",
     "text": [
      "4 Alto De Pinheiros\n",
      "66\n",
      "Resultados:  68\n",
      "7 ['Quer descobrir seu potencial de compra?', 'Simular financiamento']\n",
      "8 ['Imóveis escolhidos a dedo pra você.', 'Saber mais detalhes']\n"
     ]
    },
    {
     "name": "stderr",
     "output_type": "stream",
     "text": [
      "\n",
      "\n",
      "INFO:WDM:\n",
      "\n",
      "====== WebDriver manager ======\n",
      "INFO:WDM:====== WebDriver manager ======\n",
      "Current google-chrome version is 91.0.4472\n",
      "INFO:WDM:Current google-chrome version is 91.0.4472\n",
      "Get LATEST driver version for 91.0.4472\n",
      "INFO:WDM:Get LATEST driver version for 91.0.4472\n",
      "Driver [/Users/leuzinger/.wdm/drivers/chromedriver/mac64/91.0.4472.101/chromedriver] found in cache\n",
      "INFO:WDM:Driver [/Users/leuzinger/.wdm/drivers/chromedriver/mac64/91.0.4472.101/chromedriver] found in cache\n"
     ]
    },
    {
     "name": "stdout",
     "output_type": "stream",
     "text": [
      "5 Aricanduva\n",
      "80\n",
      "Resultados:  82\n",
      "7 ['Quer descobrir seu potencial de compra?', 'Simular financiamento']\n",
      "8 ['Imóveis escolhidos a dedo pra você.', 'Saber mais detalhes']\n"
     ]
    },
    {
     "name": "stderr",
     "output_type": "stream",
     "text": [
      "\n",
      "\n",
      "INFO:WDM:\n",
      "\n",
      "====== WebDriver manager ======\n",
      "INFO:WDM:====== WebDriver manager ======\n",
      "Current google-chrome version is 91.0.4472\n",
      "INFO:WDM:Current google-chrome version is 91.0.4472\n",
      "Get LATEST driver version for 91.0.4472\n",
      "INFO:WDM:Get LATEST driver version for 91.0.4472\n",
      "Driver [/Users/leuzinger/.wdm/drivers/chromedriver/mac64/91.0.4472.101/chromedriver] found in cache\n",
      "INFO:WDM:Driver [/Users/leuzinger/.wdm/drivers/chromedriver/mac64/91.0.4472.101/chromedriver] found in cache\n"
     ]
    },
    {
     "name": "stdout",
     "output_type": "stream",
     "text": [
      "6 Artur Alvim\n",
      "4\n",
      "Resultados:  5\n",
      "4 ['Quer descobrir seu potencial de compra?', 'Simular financiamento']\n"
     ]
    },
    {
     "name": "stderr",
     "output_type": "stream",
     "text": [
      "\n",
      "\n",
      "INFO:WDM:\n",
      "\n",
      "====== WebDriver manager ======\n",
      "INFO:WDM:====== WebDriver manager ======\n",
      "Current google-chrome version is 91.0.4472\n",
      "INFO:WDM:Current google-chrome version is 91.0.4472\n",
      "Get LATEST driver version for 91.0.4472\n",
      "INFO:WDM:Get LATEST driver version for 91.0.4472\n",
      "Driver [/Users/leuzinger/.wdm/drivers/chromedriver/mac64/91.0.4472.101/chromedriver] found in cache\n",
      "INFO:WDM:Driver [/Users/leuzinger/.wdm/drivers/chromedriver/mac64/91.0.4472.101/chromedriver] found in cache\n"
     ]
    },
    {
     "name": "stdout",
     "output_type": "stream",
     "text": [
      "7 Barra Funda\n",
      "66\n",
      "Resultados:  68\n",
      "7 ['Quer descobrir seu potencial de compra?', 'Simular financiamento']\n",
      "8 ['Imóveis escolhidos a dedo pra você.', 'Saber mais detalhes']\n"
     ]
    },
    {
     "name": "stderr",
     "output_type": "stream",
     "text": [
      "\n",
      "\n",
      "INFO:WDM:\n",
      "\n",
      "====== WebDriver manager ======\n",
      "INFO:WDM:====== WebDriver manager ======\n",
      "Current google-chrome version is 91.0.4472\n",
      "INFO:WDM:Current google-chrome version is 91.0.4472\n",
      "Get LATEST driver version for 91.0.4472\n",
      "INFO:WDM:Get LATEST driver version for 91.0.4472\n",
      "Driver [/Users/leuzinger/.wdm/drivers/chromedriver/mac64/91.0.4472.101/chromedriver] found in cache\n",
      "INFO:WDM:Driver [/Users/leuzinger/.wdm/drivers/chromedriver/mac64/91.0.4472.101/chromedriver] found in cache\n"
     ]
    },
    {
     "name": "stdout",
     "output_type": "stream",
     "text": [
      "8 Bela Vista\n",
      "563\n",
      "Resultados:  568\n",
      "7 ['Quer descobrir seu potencial de compra?', 'Simular financiamento']\n",
      "8 ['Imóveis escolhidos a dedo pra você.', 'Saber mais detalhes']\n"
     ]
    },
    {
     "name": "stderr",
     "output_type": "stream",
     "text": [
      "\n",
      "\n",
      "INFO:WDM:\n",
      "\n",
      "====== WebDriver manager ======\n",
      "INFO:WDM:====== WebDriver manager ======\n",
      "Current google-chrome version is 91.0.4472\n",
      "INFO:WDM:Current google-chrome version is 91.0.4472\n",
      "Get LATEST driver version for 91.0.4472\n",
      "INFO:WDM:Get LATEST driver version for 91.0.4472\n",
      "Driver [/Users/leuzinger/.wdm/drivers/chromedriver/mac64/91.0.4472.101/chromedriver] found in cache\n",
      "INFO:WDM:Driver [/Users/leuzinger/.wdm/drivers/chromedriver/mac64/91.0.4472.101/chromedriver] found in cache\n"
     ]
    },
    {
     "name": "stdout",
     "output_type": "stream",
     "text": [
      "9 Belém\n",
      "90\n",
      "Resultados:  92\n",
      "7 ['Quer descobrir seu potencial de compra?', 'Simular financiamento']\n",
      "8 ['Imóveis escolhidos a dedo pra você.', 'Saber mais detalhes']\n"
     ]
    },
    {
     "name": "stderr",
     "output_type": "stream",
     "text": [
      "\n",
      "\n",
      "INFO:WDM:\n",
      "\n",
      "====== WebDriver manager ======\n",
      "INFO:WDM:====== WebDriver manager ======\n",
      "Current google-chrome version is 91.0.4472\n",
      "INFO:WDM:Current google-chrome version is 91.0.4472\n",
      "Get LATEST driver version for 91.0.4472\n",
      "INFO:WDM:Get LATEST driver version for 91.0.4472\n",
      "Driver [/Users/leuzinger/.wdm/drivers/chromedriver/mac64/91.0.4472.101/chromedriver] found in cache\n",
      "INFO:WDM:Driver [/Users/leuzinger/.wdm/drivers/chromedriver/mac64/91.0.4472.101/chromedriver] found in cache\n"
     ]
    },
    {
     "name": "stdout",
     "output_type": "stream",
     "text": [
      "10 Bom Retiro\n",
      "405\n",
      "Resultados:  410\n",
      "7 ['Quer descobrir seu potencial de compra?', 'Simular financiamento']\n",
      "8 ['Imóveis escolhidos a dedo pra você.', 'Saber mais detalhes']\n"
     ]
    },
    {
     "name": "stderr",
     "output_type": "stream",
     "text": [
      "\n",
      "\n",
      "INFO:WDM:\n",
      "\n",
      "====== WebDriver manager ======\n",
      "INFO:WDM:====== WebDriver manager ======\n",
      "Current google-chrome version is 91.0.4472\n",
      "INFO:WDM:Current google-chrome version is 91.0.4472\n",
      "Get LATEST driver version for 91.0.4472\n",
      "INFO:WDM:Get LATEST driver version for 91.0.4472\n",
      "Driver [/Users/leuzinger/.wdm/drivers/chromedriver/mac64/91.0.4472.101/chromedriver] found in cache\n",
      "INFO:WDM:Driver [/Users/leuzinger/.wdm/drivers/chromedriver/mac64/91.0.4472.101/chromedriver] found in cache\n"
     ]
    },
    {
     "name": "stdout",
     "output_type": "stream",
     "text": [
      "11 Brás\n",
      "121\n",
      "Resultados:  123\n",
      "7 ['Quer descobrir seu potencial de compra?', 'Simular financiamento']\n",
      "8 ['Imóveis escolhidos a dedo pra você.', 'Saber mais detalhes']\n"
     ]
    },
    {
     "name": "stderr",
     "output_type": "stream",
     "text": [
      "\n",
      "\n",
      "INFO:WDM:\n",
      "\n",
      "====== WebDriver manager ======\n",
      "INFO:WDM:====== WebDriver manager ======\n",
      "Current google-chrome version is 91.0.4472\n",
      "INFO:WDM:Current google-chrome version is 91.0.4472\n",
      "Get LATEST driver version for 91.0.4472\n",
      "INFO:WDM:Get LATEST driver version for 91.0.4472\n",
      "Driver [/Users/leuzinger/.wdm/drivers/chromedriver/mac64/91.0.4472.101/chromedriver] found in cache\n",
      "INFO:WDM:Driver [/Users/leuzinger/.wdm/drivers/chromedriver/mac64/91.0.4472.101/chromedriver] found in cache\n"
     ]
    },
    {
     "name": "stdout",
     "output_type": "stream",
     "text": [
      "12 Brasilândia\n",
      "28\n",
      "Resultados:  30\n",
      "7 ['Quer descobrir seu potencial de compra?', 'Simular financiamento']\n",
      "8 ['Imóveis escolhidos a dedo pra você.', 'Saber mais detalhes']\n"
     ]
    },
    {
     "name": "stderr",
     "output_type": "stream",
     "text": [
      "\n",
      "\n",
      "INFO:WDM:\n",
      "\n",
      "====== WebDriver manager ======\n",
      "INFO:WDM:====== WebDriver manager ======\n",
      "Current google-chrome version is 91.0.4472\n",
      "INFO:WDM:Current google-chrome version is 91.0.4472\n",
      "Get LATEST driver version for 91.0.4472\n",
      "INFO:WDM:Get LATEST driver version for 91.0.4472\n",
      "Driver [/Users/leuzinger/.wdm/drivers/chromedriver/mac64/91.0.4472.101/chromedriver] found in cache\n",
      "INFO:WDM:Driver [/Users/leuzinger/.wdm/drivers/chromedriver/mac64/91.0.4472.101/chromedriver] found in cache\n"
     ]
    },
    {
     "name": "stdout",
     "output_type": "stream",
     "text": [
      "13 Brooklin\n",
      "244\n",
      "Resultados:  246\n",
      "7 ['Quer descobrir seu potencial de compra?', 'Simular financiamento']\n",
      "8 ['Imóveis escolhidos a dedo pra você.', 'Saber mais detalhes']\n"
     ]
    },
    {
     "name": "stderr",
     "output_type": "stream",
     "text": [
      "\n",
      "\n",
      "INFO:WDM:\n",
      "\n",
      "====== WebDriver manager ======\n",
      "INFO:WDM:====== WebDriver manager ======\n",
      "Current google-chrome version is 91.0.4472\n",
      "INFO:WDM:Current google-chrome version is 91.0.4472\n",
      "Get LATEST driver version for 91.0.4472\n",
      "INFO:WDM:Get LATEST driver version for 91.0.4472\n",
      "Driver [/Users/leuzinger/.wdm/drivers/chromedriver/mac64/91.0.4472.101/chromedriver] found in cache\n",
      "INFO:WDM:Driver [/Users/leuzinger/.wdm/drivers/chromedriver/mac64/91.0.4472.101/chromedriver] found in cache\n"
     ]
    },
    {
     "name": "stdout",
     "output_type": "stream",
     "text": [
      "14 Butantã\n",
      "76\n",
      "Resultados:  78\n",
      "7 ['Quer descobrir seu potencial de compra?', 'Simular financiamento']\n",
      "8 ['Imóveis escolhidos a dedo pra você.', 'Saber mais detalhes']\n"
     ]
    },
    {
     "name": "stderr",
     "output_type": "stream",
     "text": [
      "\n",
      "\n",
      "INFO:WDM:\n",
      "\n",
      "====== WebDriver manager ======\n",
      "INFO:WDM:====== WebDriver manager ======\n",
      "Current google-chrome version is 91.0.4472\n",
      "INFO:WDM:Current google-chrome version is 91.0.4472\n",
      "Get LATEST driver version for 91.0.4472\n",
      "INFO:WDM:Get LATEST driver version for 91.0.4472\n",
      "Driver [/Users/leuzinger/.wdm/drivers/chromedriver/mac64/91.0.4472.101/chromedriver] found in cache\n",
      "INFO:WDM:Driver [/Users/leuzinger/.wdm/drivers/chromedriver/mac64/91.0.4472.101/chromedriver] found in cache\n"
     ]
    },
    {
     "name": "stdout",
     "output_type": "stream",
     "text": [
      "15 Cachoeirinha\n",
      "115\n",
      "Resultados:  117\n",
      "7 ['Quer descobrir seu potencial de compra?', 'Simular financiamento']\n",
      "8 ['Imóveis escolhidos a dedo pra você.', 'Saber mais detalhes']\n"
     ]
    },
    {
     "name": "stderr",
     "output_type": "stream",
     "text": [
      "\n",
      "\n",
      "INFO:WDM:\n",
      "\n",
      "====== WebDriver manager ======\n",
      "INFO:WDM:====== WebDriver manager ======\n",
      "Current google-chrome version is 91.0.4472\n",
      "INFO:WDM:Current google-chrome version is 91.0.4472\n",
      "Get LATEST driver version for 91.0.4472\n",
      "INFO:WDM:Get LATEST driver version for 91.0.4472\n",
      "Driver [/Users/leuzinger/.wdm/drivers/chromedriver/mac64/91.0.4472.101/chromedriver] found in cache\n",
      "INFO:WDM:Driver [/Users/leuzinger/.wdm/drivers/chromedriver/mac64/91.0.4472.101/chromedriver] found in cache\n"
     ]
    },
    {
     "name": "stdout",
     "output_type": "stream",
     "text": [
      "16 Cambuci\n",
      "211\n",
      "Resultados:  213\n",
      "7 ['Quer descobrir seu potencial de compra?', 'Simular financiamento']\n",
      "8 ['Imóveis escolhidos a dedo pra você.', 'Saber mais detalhes']\n"
     ]
    },
    {
     "name": "stderr",
     "output_type": "stream",
     "text": [
      "\n",
      "\n",
      "INFO:WDM:\n",
      "\n",
      "====== WebDriver manager ======\n",
      "INFO:WDM:====== WebDriver manager ======\n",
      "Current google-chrome version is 91.0.4472\n",
      "INFO:WDM:Current google-chrome version is 91.0.4472\n",
      "Get LATEST driver version for 91.0.4472\n",
      "INFO:WDM:Get LATEST driver version for 91.0.4472\n",
      "Driver [/Users/leuzinger/.wdm/drivers/chromedriver/mac64/91.0.4472.101/chromedriver] found in cache\n",
      "INFO:WDM:Driver [/Users/leuzinger/.wdm/drivers/chromedriver/mac64/91.0.4472.101/chromedriver] found in cache\n"
     ]
    },
    {
     "name": "stdout",
     "output_type": "stream",
     "text": [
      "17 Campo Belo\n",
      "391\n",
      "Resultados:  396\n",
      "7 ['Quer descobrir seu potencial de compra?', 'Simular financiamento']\n",
      "8 ['Imóveis escolhidos a dedo pra você.', 'Saber mais detalhes']\n"
     ]
    },
    {
     "name": "stderr",
     "output_type": "stream",
     "text": [
      "\n",
      "\n",
      "INFO:WDM:\n",
      "\n",
      "====== WebDriver manager ======\n",
      "INFO:WDM:====== WebDriver manager ======\n",
      "Current google-chrome version is 91.0.4472\n",
      "INFO:WDM:Current google-chrome version is 91.0.4472\n",
      "Get LATEST driver version for 91.0.4472\n",
      "INFO:WDM:Get LATEST driver version for 91.0.4472\n",
      "Driver [/Users/leuzinger/.wdm/drivers/chromedriver/mac64/91.0.4472.101/chromedriver] found in cache\n",
      "INFO:WDM:Driver [/Users/leuzinger/.wdm/drivers/chromedriver/mac64/91.0.4472.101/chromedriver] found in cache\n"
     ]
    },
    {
     "name": "stdout",
     "output_type": "stream",
     "text": [
      "18 Campo Grande\n",
      "227\n",
      "Resultados:  229\n",
      "7 ['Quer descobrir seu potencial de compra?', 'Simular financiamento']\n",
      "8 ['Imóveis escolhidos a dedo pra você.', 'Saber mais detalhes']\n"
     ]
    },
    {
     "name": "stderr",
     "output_type": "stream",
     "text": [
      "\n",
      "\n",
      "INFO:WDM:\n",
      "\n",
      "====== WebDriver manager ======\n",
      "INFO:WDM:====== WebDriver manager ======\n",
      "Current google-chrome version is 91.0.4472\n",
      "INFO:WDM:Current google-chrome version is 91.0.4472\n",
      "Get LATEST driver version for 91.0.4472\n",
      "INFO:WDM:Get LATEST driver version for 91.0.4472\n",
      "Driver [/Users/leuzinger/.wdm/drivers/chromedriver/mac64/91.0.4472.101/chromedriver] found in cache\n",
      "INFO:WDM:Driver [/Users/leuzinger/.wdm/drivers/chromedriver/mac64/91.0.4472.101/chromedriver] found in cache\n"
     ]
    },
    {
     "name": "stdout",
     "output_type": "stream",
     "text": [
      "19 Campo Limpo\n",
      "178\n",
      "Resultados:  180\n",
      "7 ['Quer descobrir seu potencial de compra?', 'Simular financiamento']\n",
      "8 ['Imóveis escolhidos a dedo pra você.', 'Saber mais detalhes']\n"
     ]
    },
    {
     "name": "stderr",
     "output_type": "stream",
     "text": [
      "\n",
      "\n",
      "INFO:WDM:\n",
      "\n",
      "====== WebDriver manager ======\n",
      "INFO:WDM:====== WebDriver manager ======\n",
      "Current google-chrome version is 91.0.4472\n",
      "INFO:WDM:Current google-chrome version is 91.0.4472\n",
      "Get LATEST driver version for 91.0.4472\n",
      "INFO:WDM:Get LATEST driver version for 91.0.4472\n",
      "Driver [/Users/leuzinger/.wdm/drivers/chromedriver/mac64/91.0.4472.101/chromedriver] found in cache\n",
      "INFO:WDM:Driver [/Users/leuzinger/.wdm/drivers/chromedriver/mac64/91.0.4472.101/chromedriver] found in cache\n"
     ]
    },
    {
     "name": "stdout",
     "output_type": "stream",
     "text": [
      "20 Cangaíba\n",
      "89\n",
      "Resultados:  91\n",
      "7 ['Quer descobrir seu potencial de compra?', 'Simular financiamento']\n",
      "8 ['Imóveis escolhidos a dedo pra você.', 'Saber mais detalhes']\n"
     ]
    },
    {
     "name": "stderr",
     "output_type": "stream",
     "text": [
      "\n",
      "\n",
      "INFO:WDM:\n",
      "\n",
      "====== WebDriver manager ======\n",
      "INFO:WDM:====== WebDriver manager ======\n",
      "Current google-chrome version is 91.0.4472\n",
      "INFO:WDM:Current google-chrome version is 91.0.4472\n",
      "Get LATEST driver version for 91.0.4472\n",
      "INFO:WDM:Get LATEST driver version for 91.0.4472\n",
      "Driver [/Users/leuzinger/.wdm/drivers/chromedriver/mac64/91.0.4472.101/chromedriver] found in cache\n",
      "INFO:WDM:Driver [/Users/leuzinger/.wdm/drivers/chromedriver/mac64/91.0.4472.101/chromedriver] found in cache\n"
     ]
    },
    {
     "name": "stdout",
     "output_type": "stream",
     "text": [
      "21 Capão Redondo\n",
      "54\n",
      "Resultados:  56\n",
      "7 ['Quer descobrir seu potencial de compra?', 'Simular financiamento']\n",
      "8 ['Imóveis escolhidos a dedo pra você.', 'Saber mais detalhes']\n"
     ]
    },
    {
     "name": "stderr",
     "output_type": "stream",
     "text": [
      "\n",
      "\n",
      "INFO:WDM:\n",
      "\n",
      "====== WebDriver manager ======\n",
      "INFO:WDM:====== WebDriver manager ======\n",
      "Current google-chrome version is 91.0.4472\n",
      "INFO:WDM:Current google-chrome version is 91.0.4472\n",
      "Get LATEST driver version for 91.0.4472\n",
      "INFO:WDM:Get LATEST driver version for 91.0.4472\n",
      "Driver [/Users/leuzinger/.wdm/drivers/chromedriver/mac64/91.0.4472.101/chromedriver] found in cache\n",
      "INFO:WDM:Driver [/Users/leuzinger/.wdm/drivers/chromedriver/mac64/91.0.4472.101/chromedriver] found in cache\n"
     ]
    },
    {
     "name": "stdout",
     "output_type": "stream",
     "text": [
      "22 Carrão\n",
      "117\n",
      "Resultados:  119\n",
      "7 ['Quer descobrir seu potencial de compra?', 'Simular financiamento']\n",
      "8 ['Imóveis escolhidos a dedo pra você.', 'Saber mais detalhes']\n"
     ]
    },
    {
     "name": "stderr",
     "output_type": "stream",
     "text": [
      "\n",
      "\n",
      "INFO:WDM:\n",
      "\n",
      "====== WebDriver manager ======\n",
      "INFO:WDM:====== WebDriver manager ======\n",
      "Current google-chrome version is 91.0.4472\n",
      "INFO:WDM:Current google-chrome version is 91.0.4472\n",
      "Get LATEST driver version for 91.0.4472\n",
      "INFO:WDM:Get LATEST driver version for 91.0.4472\n",
      "Driver [/Users/leuzinger/.wdm/drivers/chromedriver/mac64/91.0.4472.101/chromedriver] found in cache\n",
      "INFO:WDM:Driver [/Users/leuzinger/.wdm/drivers/chromedriver/mac64/91.0.4472.101/chromedriver] found in cache\n"
     ]
    },
    {
     "name": "stdout",
     "output_type": "stream",
     "text": [
      "23 Casa Verde\n",
      "118\n",
      "Resultados:  120\n",
      "7 ['Quer descobrir seu potencial de compra?', 'Simular financiamento']\n",
      "8 ['Imóveis escolhidos a dedo pra você.', 'Saber mais detalhes']\n"
     ]
    },
    {
     "name": "stderr",
     "output_type": "stream",
     "text": [
      "\n",
      "\n",
      "INFO:WDM:\n",
      "\n",
      "====== WebDriver manager ======\n",
      "INFO:WDM:====== WebDriver manager ======\n",
      "Current google-chrome version is 91.0.4472\n",
      "INFO:WDM:Current google-chrome version is 91.0.4472\n",
      "Get LATEST driver version for 91.0.4472\n",
      "INFO:WDM:Get LATEST driver version for 91.0.4472\n",
      "Driver [/Users/leuzinger/.wdm/drivers/chromedriver/mac64/91.0.4472.101/chromedriver] found in cache\n",
      "INFO:WDM:Driver [/Users/leuzinger/.wdm/drivers/chromedriver/mac64/91.0.4472.101/chromedriver] found in cache\n"
     ]
    },
    {
     "name": "stdout",
     "output_type": "stream",
     "text": [
      "24 Chacara Klabin\n",
      "170\n",
      "Resultados:  172\n",
      "7 ['Quer descobrir seu potencial de compra?', 'Simular financiamento']\n",
      "8 ['Imóveis escolhidos a dedo pra você.', 'Saber mais detalhes']\n"
     ]
    },
    {
     "name": "stderr",
     "output_type": "stream",
     "text": [
      "\n",
      "\n",
      "INFO:WDM:\n",
      "\n",
      "====== WebDriver manager ======\n",
      "INFO:WDM:====== WebDriver manager ======\n",
      "Current google-chrome version is 91.0.4472\n",
      "INFO:WDM:Current google-chrome version is 91.0.4472\n",
      "Get LATEST driver version for 91.0.4472\n",
      "INFO:WDM:Get LATEST driver version for 91.0.4472\n",
      "Driver [/Users/leuzinger/.wdm/drivers/chromedriver/mac64/91.0.4472.101/chromedriver] found in cache\n",
      "INFO:WDM:Driver [/Users/leuzinger/.wdm/drivers/chromedriver/mac64/91.0.4472.101/chromedriver] found in cache\n"
     ]
    },
    {
     "name": "stdout",
     "output_type": "stream",
     "text": [
      "25 Cidade Ademar\n",
      "168\n",
      "Resultados:  170\n",
      "7 ['Quer descobrir seu potencial de compra?', 'Simular financiamento']\n",
      "8 ['Imóveis escolhidos a dedo pra você.', 'Saber mais detalhes']\n"
     ]
    },
    {
     "name": "stderr",
     "output_type": "stream",
     "text": [
      "\n",
      "\n",
      "INFO:WDM:\n",
      "\n",
      "====== WebDriver manager ======\n",
      "INFO:WDM:====== WebDriver manager ======\n",
      "Current google-chrome version is 91.0.4472\n",
      "INFO:WDM:Current google-chrome version is 91.0.4472\n",
      "Get LATEST driver version for 91.0.4472\n",
      "INFO:WDM:Get LATEST driver version for 91.0.4472\n",
      "Driver [/Users/leuzinger/.wdm/drivers/chromedriver/mac64/91.0.4472.101/chromedriver] found in cache\n",
      "INFO:WDM:Driver [/Users/leuzinger/.wdm/drivers/chromedriver/mac64/91.0.4472.101/chromedriver] found in cache\n"
     ]
    },
    {
     "name": "stdout",
     "output_type": "stream",
     "text": [
      "26 Cidade Dutra\n",
      "36\n",
      "Resultados:  38\n",
      "7 ['Quer descobrir seu potencial de compra?', 'Simular financiamento']\n",
      "8 ['Imóveis escolhidos a dedo pra você.', 'Saber mais detalhes']\n"
     ]
    },
    {
     "name": "stderr",
     "output_type": "stream",
     "text": [
      "\n",
      "\n",
      "INFO:WDM:\n",
      "\n",
      "====== WebDriver manager ======\n",
      "INFO:WDM:====== WebDriver manager ======\n",
      "Current google-chrome version is 91.0.4472\n",
      "INFO:WDM:Current google-chrome version is 91.0.4472\n",
      "Get LATEST driver version for 91.0.4472\n",
      "INFO:WDM:Get LATEST driver version for 91.0.4472\n",
      "Driver [/Users/leuzinger/.wdm/drivers/chromedriver/mac64/91.0.4472.101/chromedriver] found in cache\n",
      "INFO:WDM:Driver [/Users/leuzinger/.wdm/drivers/chromedriver/mac64/91.0.4472.101/chromedriver] found in cache\n"
     ]
    },
    {
     "name": "stdout",
     "output_type": "stream",
     "text": [
      "27 Cidade Líder\n",
      "95\n",
      "Resultados:  97\n",
      "7 ['Quer descobrir seu potencial de compra?', 'Simular financiamento']\n",
      "8 ['Imóveis escolhidos a dedo pra você.', 'Saber mais detalhes']\n"
     ]
    },
    {
     "name": "stderr",
     "output_type": "stream",
     "text": [
      "\n",
      "\n",
      "INFO:WDM:\n",
      "\n",
      "====== WebDriver manager ======\n",
      "INFO:WDM:====== WebDriver manager ======\n",
      "Current google-chrome version is 91.0.4472\n",
      "INFO:WDM:Current google-chrome version is 91.0.4472\n",
      "Get LATEST driver version for 91.0.4472\n",
      "INFO:WDM:Get LATEST driver version for 91.0.4472\n",
      "Driver [/Users/leuzinger/.wdm/drivers/chromedriver/mac64/91.0.4472.101/chromedriver] found in cache\n",
      "INFO:WDM:Driver [/Users/leuzinger/.wdm/drivers/chromedriver/mac64/91.0.4472.101/chromedriver] found in cache\n"
     ]
    },
    {
     "name": "stdout",
     "output_type": "stream",
     "text": [
      "28 Cursino\n",
      "320\n",
      "Resultados:  325\n",
      "7 ['Quer descobrir seu potencial de compra?', 'Simular financiamento']\n",
      "8 ['Imóveis escolhidos a dedo pra você.', 'Saber mais detalhes']\n"
     ]
    },
    {
     "name": "stderr",
     "output_type": "stream",
     "text": [
      "\n",
      "\n",
      "INFO:WDM:\n",
      "\n",
      "====== WebDriver manager ======\n",
      "INFO:WDM:====== WebDriver manager ======\n",
      "Current google-chrome version is 91.0.4472\n",
      "INFO:WDM:Current google-chrome version is 91.0.4472\n",
      "Get LATEST driver version for 91.0.4472\n",
      "INFO:WDM:Get LATEST driver version for 91.0.4472\n",
      "Driver [/Users/leuzinger/.wdm/drivers/chromedriver/mac64/91.0.4472.101/chromedriver] found in cache\n",
      "INFO:WDM:Driver [/Users/leuzinger/.wdm/drivers/chromedriver/mac64/91.0.4472.101/chromedriver] found in cache\n"
     ]
    },
    {
     "name": "stdout",
     "output_type": "stream",
     "text": [
      "29 Ermelino Matarazzo\n",
      "48\n",
      "Resultados:  50\n",
      "7 ['Quer descobrir seu potencial de compra?', 'Simular financiamento']\n",
      "8 ['Imóveis escolhidos a dedo pra você.', 'Saber mais detalhes']\n"
     ]
    },
    {
     "name": "stderr",
     "output_type": "stream",
     "text": [
      "\n",
      "\n",
      "INFO:WDM:\n",
      "\n",
      "====== WebDriver manager ======\n",
      "INFO:WDM:====== WebDriver manager ======\n",
      "Current google-chrome version is 91.0.4472\n",
      "INFO:WDM:Current google-chrome version is 91.0.4472\n",
      "Get LATEST driver version for 91.0.4472\n",
      "INFO:WDM:Get LATEST driver version for 91.0.4472\n",
      "Driver [/Users/leuzinger/.wdm/drivers/chromedriver/mac64/91.0.4472.101/chromedriver] found in cache\n",
      "INFO:WDM:Driver [/Users/leuzinger/.wdm/drivers/chromedriver/mac64/91.0.4472.101/chromedriver] found in cache\n"
     ]
    },
    {
     "name": "stdout",
     "output_type": "stream",
     "text": [
      "30 Freguesia do Ó\n",
      "151\n",
      "Resultados:  153\n",
      "7 ['Quer descobrir seu potencial de compra?', 'Simular financiamento']\n",
      "8 ['Imóveis escolhidos a dedo pra você.', 'Saber mais detalhes']\n"
     ]
    },
    {
     "name": "stderr",
     "output_type": "stream",
     "text": [
      "\n",
      "\n",
      "INFO:WDM:\n",
      "\n",
      "====== WebDriver manager ======\n",
      "INFO:WDM:====== WebDriver manager ======\n",
      "Current google-chrome version is 91.0.4472\n",
      "INFO:WDM:Current google-chrome version is 91.0.4472\n",
      "Get LATEST driver version for 91.0.4472\n",
      "INFO:WDM:Get LATEST driver version for 91.0.4472\n",
      "Driver [/Users/leuzinger/.wdm/drivers/chromedriver/mac64/91.0.4472.101/chromedriver] found in cache\n",
      "INFO:WDM:Driver [/Users/leuzinger/.wdm/drivers/chromedriver/mac64/91.0.4472.101/chromedriver] found in cache\n"
     ]
    },
    {
     "name": "stdout",
     "output_type": "stream",
     "text": [
      "31 Guaianases\n",
      "1\n",
      "Resultados:  5\n",
      "1 ['Quer descobrir seu potencial de compra?', 'Simular financiamento']\n"
     ]
    },
    {
     "name": "stderr",
     "output_type": "stream",
     "text": [
      "\n",
      "\n",
      "INFO:WDM:\n",
      "\n",
      "====== WebDriver manager ======\n",
      "INFO:WDM:====== WebDriver manager ======\n",
      "Current google-chrome version is 91.0.4472\n",
      "INFO:WDM:Current google-chrome version is 91.0.4472\n",
      "Get LATEST driver version for 91.0.4472\n",
      "INFO:WDM:Get LATEST driver version for 91.0.4472\n",
      "Driver [/Users/leuzinger/.wdm/drivers/chromedriver/mac64/91.0.4472.101/chromedriver] found in cache\n",
      "INFO:WDM:Driver [/Users/leuzinger/.wdm/drivers/chromedriver/mac64/91.0.4472.101/chromedriver] found in cache\n"
     ]
    },
    {
     "name": "stdout",
     "output_type": "stream",
     "text": [
      "32 Higienópolis\n",
      "279\n",
      "Resultados:  284\n",
      "7 ['Quer descobrir seu potencial de compra?', 'Simular financiamento']\n",
      "8 ['Imóveis escolhidos a dedo pra você.', 'Saber mais detalhes']\n"
     ]
    },
    {
     "name": "stderr",
     "output_type": "stream",
     "text": [
      "\n",
      "\n",
      "INFO:WDM:\n",
      "\n",
      "====== WebDriver manager ======\n",
      "INFO:WDM:====== WebDriver manager ======\n",
      "Current google-chrome version is 91.0.4472\n",
      "INFO:WDM:Current google-chrome version is 91.0.4472\n",
      "Get LATEST driver version for 91.0.4472\n",
      "INFO:WDM:Get LATEST driver version for 91.0.4472\n",
      "Driver [/Users/leuzinger/.wdm/drivers/chromedriver/mac64/91.0.4472.101/chromedriver] found in cache\n",
      "INFO:WDM:Driver [/Users/leuzinger/.wdm/drivers/chromedriver/mac64/91.0.4472.101/chromedriver] found in cache\n"
     ]
    },
    {
     "name": "stdout",
     "output_type": "stream",
     "text": [
      "33 Ipiranga\n",
      "266\n",
      "Resultados:  268\n",
      "7 ['Quer descobrir seu potencial de compra?', 'Simular financiamento']\n",
      "8 ['Imóveis escolhidos a dedo pra você.', 'Saber mais detalhes']\n"
     ]
    },
    {
     "name": "stderr",
     "output_type": "stream",
     "text": [
      "\n",
      "\n",
      "INFO:WDM:\n",
      "\n",
      "====== WebDriver manager ======\n",
      "INFO:WDM:====== WebDriver manager ======\n",
      "Current google-chrome version is 91.0.4472\n",
      "INFO:WDM:Current google-chrome version is 91.0.4472\n",
      "Get LATEST driver version for 91.0.4472\n",
      "INFO:WDM:Get LATEST driver version for 91.0.4472\n",
      "Driver [/Users/leuzinger/.wdm/drivers/chromedriver/mac64/91.0.4472.101/chromedriver] found in cache\n",
      "INFO:WDM:Driver [/Users/leuzinger/.wdm/drivers/chromedriver/mac64/91.0.4472.101/chromedriver] found in cache\n"
     ]
    },
    {
     "name": "stdout",
     "output_type": "stream",
     "text": [
      "34 Itaim Bibi\n",
      "177\n",
      "Resultados:  179\n",
      "7 ['Quer descobrir seu potencial de compra?', 'Simular financiamento']\n",
      "8 ['Imóveis escolhidos a dedo pra você.', 'Saber mais detalhes']\n"
     ]
    },
    {
     "name": "stderr",
     "output_type": "stream",
     "text": [
      "\n",
      "\n",
      "INFO:WDM:\n",
      "\n",
      "====== WebDriver manager ======\n",
      "INFO:WDM:====== WebDriver manager ======\n",
      "Current google-chrome version is 91.0.4472\n",
      "INFO:WDM:Current google-chrome version is 91.0.4472\n",
      "Get LATEST driver version for 91.0.4472\n",
      "INFO:WDM:Get LATEST driver version for 91.0.4472\n",
      "Driver [/Users/leuzinger/.wdm/drivers/chromedriver/mac64/91.0.4472.101/chromedriver] found in cache\n",
      "INFO:WDM:Driver [/Users/leuzinger/.wdm/drivers/chromedriver/mac64/91.0.4472.101/chromedriver] found in cache\n"
     ]
    },
    {
     "name": "stdout",
     "output_type": "stream",
     "text": [
      "35 Itaim Nobre\n",
      "11\n",
      "Resultados:  16\n",
      "7 ['Quer descobrir seu potencial de compra?', 'Simular financiamento']\n",
      "8 ['Imóveis escolhidos a dedo pra você.', 'Saber mais detalhes']\n"
     ]
    },
    {
     "name": "stderr",
     "output_type": "stream",
     "text": [
      "\n",
      "\n",
      "INFO:WDM:\n",
      "\n",
      "====== WebDriver manager ======\n",
      "INFO:WDM:====== WebDriver manager ======\n",
      "Current google-chrome version is 91.0.4472\n",
      "INFO:WDM:Current google-chrome version is 91.0.4472\n",
      "Get LATEST driver version for 91.0.4472\n",
      "INFO:WDM:Get LATEST driver version for 91.0.4472\n",
      "Driver [/Users/leuzinger/.wdm/drivers/chromedriver/mac64/91.0.4472.101/chromedriver] found in cache\n",
      "INFO:WDM:Driver [/Users/leuzinger/.wdm/drivers/chromedriver/mac64/91.0.4472.101/chromedriver] found in cache\n"
     ]
    },
    {
     "name": "stdout",
     "output_type": "stream",
     "text": [
      "36 Jabaquara\n",
      "510\n",
      "Resultados:  515\n",
      "7 ['Quer descobrir seu potencial de compra?', 'Simular financiamento']\n",
      "8 ['Imóveis escolhidos a dedo pra você.', 'Saber mais detalhes']\n"
     ]
    },
    {
     "name": "stderr",
     "output_type": "stream",
     "text": [
      "\n",
      "\n",
      "INFO:WDM:\n",
      "\n",
      "====== WebDriver manager ======\n",
      "INFO:WDM:====== WebDriver manager ======\n",
      "Current google-chrome version is 91.0.4472\n",
      "INFO:WDM:Current google-chrome version is 91.0.4472\n",
      "Get LATEST driver version for 91.0.4472\n",
      "INFO:WDM:Get LATEST driver version for 91.0.4472\n",
      "Driver [/Users/leuzinger/.wdm/drivers/chromedriver/mac64/91.0.4472.101/chromedriver] found in cache\n",
      "INFO:WDM:Driver [/Users/leuzinger/.wdm/drivers/chromedriver/mac64/91.0.4472.101/chromedriver] found in cache\n"
     ]
    },
    {
     "name": "stdout",
     "output_type": "stream",
     "text": [
      "37 Jaçanã\n",
      "31\n",
      "Resultados:  33\n",
      "7 ['Quer descobrir seu potencial de compra?', 'Simular financiamento']\n",
      "8 ['Imóveis escolhidos a dedo pra você.', 'Saber mais detalhes']\n"
     ]
    },
    {
     "name": "stderr",
     "output_type": "stream",
     "text": [
      "\n",
      "\n",
      "INFO:WDM:\n",
      "\n",
      "====== WebDriver manager ======\n",
      "INFO:WDM:====== WebDriver manager ======\n",
      "Current google-chrome version is 91.0.4472\n",
      "INFO:WDM:Current google-chrome version is 91.0.4472\n",
      "Get LATEST driver version for 91.0.4472\n",
      "INFO:WDM:Get LATEST driver version for 91.0.4472\n",
      "Driver [/Users/leuzinger/.wdm/drivers/chromedriver/mac64/91.0.4472.101/chromedriver] found in cache\n",
      "INFO:WDM:Driver [/Users/leuzinger/.wdm/drivers/chromedriver/mac64/91.0.4472.101/chromedriver] found in cache\n"
     ]
    },
    {
     "name": "stdout",
     "output_type": "stream",
     "text": [
      "38 Jaguara\n",
      "22\n",
      "Resultados:  24\n",
      "7 ['Quer descobrir seu potencial de compra?', 'Simular financiamento']\n",
      "8 ['Imóveis escolhidos a dedo pra você.', 'Saber mais detalhes']\n"
     ]
    },
    {
     "name": "stderr",
     "output_type": "stream",
     "text": [
      "\n",
      "\n",
      "INFO:WDM:\n",
      "\n",
      "====== WebDriver manager ======\n",
      "INFO:WDM:====== WebDriver manager ======\n",
      "Current google-chrome version is 91.0.4472\n",
      "INFO:WDM:Current google-chrome version is 91.0.4472\n",
      "Get LATEST driver version for 91.0.4472\n",
      "INFO:WDM:Get LATEST driver version for 91.0.4472\n",
      "Driver [/Users/leuzinger/.wdm/drivers/chromedriver/mac64/91.0.4472.101/chromedriver] found in cache\n",
      "INFO:WDM:Driver [/Users/leuzinger/.wdm/drivers/chromedriver/mac64/91.0.4472.101/chromedriver] found in cache\n"
     ]
    },
    {
     "name": "stdout",
     "output_type": "stream",
     "text": [
      "39 Jaguaré\n",
      "102\n",
      "Resultados:  104\n",
      "7 ['Quer descobrir seu potencial de compra?', 'Simular financiamento']\n",
      "8 ['Imóveis escolhidos a dedo pra você.', 'Saber mais detalhes']\n"
     ]
    },
    {
     "name": "stderr",
     "output_type": "stream",
     "text": [
      "\n",
      "\n",
      "INFO:WDM:\n",
      "\n",
      "====== WebDriver manager ======\n",
      "INFO:WDM:====== WebDriver manager ======\n",
      "Current google-chrome version is 91.0.4472\n",
      "INFO:WDM:Current google-chrome version is 91.0.4472\n",
      "Get LATEST driver version for 91.0.4472\n",
      "INFO:WDM:Get LATEST driver version for 91.0.4472\n",
      "Driver [/Users/leuzinger/.wdm/drivers/chromedriver/mac64/91.0.4472.101/chromedriver] found in cache\n",
      "INFO:WDM:Driver [/Users/leuzinger/.wdm/drivers/chromedriver/mac64/91.0.4472.101/chromedriver] found in cache\n"
     ]
    },
    {
     "name": "stdout",
     "output_type": "stream",
     "text": [
      "40 Jaraguá\n",
      "1\n",
      "Resultados:  5\n",
      "1 ['Quer descobrir seu potencial de compra?', 'Simular financiamento']\n"
     ]
    },
    {
     "name": "stderr",
     "output_type": "stream",
     "text": [
      "\n",
      "\n",
      "INFO:WDM:\n",
      "\n",
      "====== WebDriver manager ======\n",
      "INFO:WDM:====== WebDriver manager ======\n",
      "Current google-chrome version is 91.0.4472\n",
      "INFO:WDM:Current google-chrome version is 91.0.4472\n",
      "Get LATEST driver version for 91.0.4472\n",
      "INFO:WDM:Get LATEST driver version for 91.0.4472\n",
      "Driver [/Users/leuzinger/.wdm/drivers/chromedriver/mac64/91.0.4472.101/chromedriver] found in cache\n",
      "INFO:WDM:Driver [/Users/leuzinger/.wdm/drivers/chromedriver/mac64/91.0.4472.101/chromedriver] found in cache\n"
     ]
    },
    {
     "name": "stdout",
     "output_type": "stream",
     "text": [
      "41 Jardim América\n",
      "254\n",
      "Resultados:  254\n",
      "7 ['Quer descobrir seu potencial de compra?', 'Simular financiamento']\n",
      "8 ['Imóveis escolhidos a dedo pra você.', 'Saber mais detalhes']\n"
     ]
    },
    {
     "name": "stderr",
     "output_type": "stream",
     "text": [
      "\n",
      "\n",
      "INFO:WDM:\n",
      "\n",
      "====== WebDriver manager ======\n",
      "INFO:WDM:====== WebDriver manager ======\n",
      "Current google-chrome version is 91.0.4472\n",
      "INFO:WDM:Current google-chrome version is 91.0.4472\n",
      "Get LATEST driver version for 91.0.4472\n",
      "INFO:WDM:Get LATEST driver version for 91.0.4472\n",
      "Driver [/Users/leuzinger/.wdm/drivers/chromedriver/mac64/91.0.4472.101/chromedriver] found in cache\n",
      "INFO:WDM:Driver [/Users/leuzinger/.wdm/drivers/chromedriver/mac64/91.0.4472.101/chromedriver] found in cache\n"
     ]
    },
    {
     "name": "stdout",
     "output_type": "stream",
     "text": [
      "42 Jardim Ângela\n",
      "21\n",
      "Resultados:  23\n",
      "7 ['Quer descobrir seu potencial de compra?', 'Simular financiamento']\n",
      "8 ['Imóveis escolhidos a dedo pra você.', 'Saber mais detalhes']\n"
     ]
    },
    {
     "name": "stderr",
     "output_type": "stream",
     "text": [
      "\n",
      "\n",
      "INFO:WDM:\n",
      "\n",
      "====== WebDriver manager ======\n",
      "INFO:WDM:====== WebDriver manager ======\n",
      "Current google-chrome version is 91.0.4472\n",
      "INFO:WDM:Current google-chrome version is 91.0.4472\n",
      "Get LATEST driver version for 91.0.4472\n",
      "INFO:WDM:Get LATEST driver version for 91.0.4472\n",
      "Driver [/Users/leuzinger/.wdm/drivers/chromedriver/mac64/91.0.4472.101/chromedriver] found in cache\n",
      "INFO:WDM:Driver [/Users/leuzinger/.wdm/drivers/chromedriver/mac64/91.0.4472.101/chromedriver] found in cache\n"
     ]
    },
    {
     "name": "stdout",
     "output_type": "stream",
     "text": [
      "43 Jardim Europa\n",
      "8\n",
      "Resultados:  13\n",
      "7 ['Quer descobrir seu potencial de compra?', 'Simular financiamento']\n",
      "8 ['Imóveis escolhidos a dedo pra você.', 'Saber mais detalhes']\n"
     ]
    },
    {
     "name": "stderr",
     "output_type": "stream",
     "text": [
      "\n",
      "\n",
      "INFO:WDM:\n",
      "\n",
      "====== WebDriver manager ======\n",
      "INFO:WDM:====== WebDriver manager ======\n",
      "Current google-chrome version is 91.0.4472\n",
      "INFO:WDM:Current google-chrome version is 91.0.4472\n",
      "Get LATEST driver version for 91.0.4472\n",
      "INFO:WDM:Get LATEST driver version for 91.0.4472\n",
      "Driver [/Users/leuzinger/.wdm/drivers/chromedriver/mac64/91.0.4472.101/chromedriver] found in cache\n",
      "INFO:WDM:Driver [/Users/leuzinger/.wdm/drivers/chromedriver/mac64/91.0.4472.101/chromedriver] found in cache\n"
     ]
    },
    {
     "name": "stdout",
     "output_type": "stream",
     "text": [
      "44 Jardim Helena\n",
      "2\n"
     ]
    },
    {
     "name": "stderr",
     "output_type": "stream",
     "text": [
      "\n",
      "\n",
      "INFO:WDM:\n",
      "\n",
      "====== WebDriver manager ======\n",
      "INFO:WDM:====== WebDriver manager ======\n"
     ]
    },
    {
     "name": "stdout",
     "output_type": "stream",
     "text": [
      "Resultados:  3\n",
      "2 ['Quer descobrir seu potencial de compra?', 'Simular financiamento']\n"
     ]
    },
    {
     "name": "stderr",
     "output_type": "stream",
     "text": [
      "Current google-chrome version is 91.0.4472\n",
      "INFO:WDM:Current google-chrome version is 91.0.4472\n",
      "Get LATEST driver version for 91.0.4472\n",
      "INFO:WDM:Get LATEST driver version for 91.0.4472\n",
      "Driver [/Users/leuzinger/.wdm/drivers/chromedriver/mac64/91.0.4472.101/chromedriver] found in cache\n",
      "INFO:WDM:Driver [/Users/leuzinger/.wdm/drivers/chromedriver/mac64/91.0.4472.101/chromedriver] found in cache\n"
     ]
    },
    {
     "name": "stdout",
     "output_type": "stream",
     "text": [
      "45 Jardim Paulista\n",
      "264\n",
      "erro resultados\n",
      "Resultados(Erro):  254\n",
      "Resultados:  254\n",
      "7 ['Quer descobrir seu potencial de compra?', 'Simular financiamento']\n",
      "8 ['Imóveis escolhidos a dedo pra você.', 'Saber mais detalhes']\n"
     ]
    },
    {
     "name": "stderr",
     "output_type": "stream",
     "text": [
      "\n",
      "\n",
      "INFO:WDM:\n",
      "\n",
      "====== WebDriver manager ======\n",
      "INFO:WDM:====== WebDriver manager ======\n",
      "Current google-chrome version is 91.0.4472\n",
      "INFO:WDM:Current google-chrome version is 91.0.4472\n",
      "Get LATEST driver version for 91.0.4472\n",
      "INFO:WDM:Get LATEST driver version for 91.0.4472\n",
      "Driver [/Users/leuzinger/.wdm/drivers/chromedriver/mac64/91.0.4472.101/chromedriver] found in cache\n",
      "INFO:WDM:Driver [/Users/leuzinger/.wdm/drivers/chromedriver/mac64/91.0.4472.101/chromedriver] found in cache\n"
     ]
    },
    {
     "name": "stdout",
     "output_type": "stream",
     "text": [
      "46 Jardim Paulistano\n",
      "14\n",
      "Resultados:  19\n",
      "7 ['Quer descobrir seu potencial de compra?', 'Simular financiamento']\n",
      "8 ['Imóveis escolhidos a dedo pra você.', 'Saber mais detalhes']\n"
     ]
    },
    {
     "name": "stderr",
     "output_type": "stream",
     "text": [
      "\n",
      "\n",
      "INFO:WDM:\n",
      "\n",
      "====== WebDriver manager ======\n",
      "INFO:WDM:====== WebDriver manager ======\n",
      "Current google-chrome version is 91.0.4472\n",
      "INFO:WDM:Current google-chrome version is 91.0.4472\n",
      "Get LATEST driver version for 91.0.4472\n",
      "INFO:WDM:Get LATEST driver version for 91.0.4472\n",
      "Driver [/Users/leuzinger/.wdm/drivers/chromedriver/mac64/91.0.4472.101/chromedriver] found in cache\n",
      "INFO:WDM:Driver [/Users/leuzinger/.wdm/drivers/chromedriver/mac64/91.0.4472.101/chromedriver] found in cache\n"
     ]
    },
    {
     "name": "stdout",
     "output_type": "stream",
     "text": [
      "47 Jardim São Luís\n",
      "75\n",
      "Resultados:  77\n",
      "7 ['Quer descobrir seu potencial de compra?', 'Simular financiamento']\n",
      "8 ['Imóveis escolhidos a dedo pra você.', 'Saber mais detalhes']\n"
     ]
    },
    {
     "name": "stderr",
     "output_type": "stream",
     "text": [
      "\n",
      "\n",
      "INFO:WDM:\n",
      "\n",
      "====== WebDriver manager ======\n",
      "INFO:WDM:====== WebDriver manager ======\n",
      "Current google-chrome version is 91.0.4472\n",
      "INFO:WDM:Current google-chrome version is 91.0.4472\n",
      "Get LATEST driver version for 91.0.4472\n",
      "INFO:WDM:Get LATEST driver version for 91.0.4472\n",
      "Driver [/Users/leuzinger/.wdm/drivers/chromedriver/mac64/91.0.4472.101/chromedriver] found in cache\n",
      "INFO:WDM:Driver [/Users/leuzinger/.wdm/drivers/chromedriver/mac64/91.0.4472.101/chromedriver] found in cache\n"
     ]
    },
    {
     "name": "stdout",
     "output_type": "stream",
     "text": [
      "48 José Bonifácio\n",
      "2\n",
      "Resultados:  6\n",
      "2 ['Quer descobrir seu potencial de compra?', 'Simular financiamento']\n"
     ]
    },
    {
     "name": "stderr",
     "output_type": "stream",
     "text": [
      "\n",
      "\n",
      "INFO:WDM:\n",
      "\n",
      "====== WebDriver manager ======\n",
      "INFO:WDM:====== WebDriver manager ======\n",
      "Current google-chrome version is 91.0.4472\n",
      "INFO:WDM:Current google-chrome version is 91.0.4472\n",
      "Get LATEST driver version for 91.0.4472\n",
      "INFO:WDM:Get LATEST driver version for 91.0.4472\n",
      "Driver [/Users/leuzinger/.wdm/drivers/chromedriver/mac64/91.0.4472.101/chromedriver] found in cache\n",
      "INFO:WDM:Driver [/Users/leuzinger/.wdm/drivers/chromedriver/mac64/91.0.4472.101/chromedriver] found in cache\n"
     ]
    },
    {
     "name": "stdout",
     "output_type": "stream",
     "text": [
      "49 Lajeado\n",
      "1\n",
      "Resultados:  5\n",
      "1 ['Quer descobrir seu potencial de compra?', 'Simular financiamento']\n"
     ]
    },
    {
     "name": "stderr",
     "output_type": "stream",
     "text": [
      "\n",
      "\n",
      "INFO:WDM:\n",
      "\n",
      "====== WebDriver manager ======\n",
      "INFO:WDM:====== WebDriver manager ======\n",
      "Current google-chrome version is 91.0.4472\n",
      "INFO:WDM:Current google-chrome version is 91.0.4472\n",
      "Get LATEST driver version for 91.0.4472\n",
      "INFO:WDM:Get LATEST driver version for 91.0.4472\n",
      "Driver [/Users/leuzinger/.wdm/drivers/chromedriver/mac64/91.0.4472.101/chromedriver] found in cache\n",
      "INFO:WDM:Driver [/Users/leuzinger/.wdm/drivers/chromedriver/mac64/91.0.4472.101/chromedriver] found in cache\n"
     ]
    },
    {
     "name": "stdout",
     "output_type": "stream",
     "text": [
      "50 Lapa\n",
      "44\n",
      "Resultados:  46\n",
      "7 ['Quer descobrir seu potencial de compra?', 'Simular financiamento']\n",
      "8 ['Imóveis escolhidos a dedo pra você.', 'Saber mais detalhes']\n"
     ]
    },
    {
     "name": "stderr",
     "output_type": "stream",
     "text": [
      "\n",
      "\n",
      "INFO:WDM:\n",
      "\n",
      "====== WebDriver manager ======\n",
      "INFO:WDM:====== WebDriver manager ======\n",
      "Current google-chrome version is 91.0.4472\n",
      "INFO:WDM:Current google-chrome version is 91.0.4472\n",
      "Get LATEST driver version for 91.0.4472\n",
      "INFO:WDM:Get LATEST driver version for 91.0.4472\n",
      "Driver [/Users/leuzinger/.wdm/drivers/chromedriver/mac64/91.0.4472.101/chromedriver] found in cache\n",
      "INFO:WDM:Driver [/Users/leuzinger/.wdm/drivers/chromedriver/mac64/91.0.4472.101/chromedriver] found in cache\n"
     ]
    },
    {
     "name": "stdout",
     "output_type": "stream",
     "text": [
      "51 Liberdade\n",
      "115\n",
      "Resultados:  120\n",
      "7 ['Quer descobrir seu potencial de compra?', 'Simular financiamento']\n",
      "8 ['Imóveis escolhidos a dedo pra você.', 'Saber mais detalhes']\n"
     ]
    },
    {
     "name": "stderr",
     "output_type": "stream",
     "text": [
      "\n",
      "\n",
      "INFO:WDM:\n",
      "\n",
      "====== WebDriver manager ======\n",
      "INFO:WDM:====== WebDriver manager ======\n",
      "Current google-chrome version is 91.0.4472\n",
      "INFO:WDM:Current google-chrome version is 91.0.4472\n",
      "Get LATEST driver version for 91.0.4472\n",
      "INFO:WDM:Get LATEST driver version for 91.0.4472\n",
      "Driver [/Users/leuzinger/.wdm/drivers/chromedriver/mac64/91.0.4472.101/chromedriver] found in cache\n",
      "INFO:WDM:Driver [/Users/leuzinger/.wdm/drivers/chromedriver/mac64/91.0.4472.101/chromedriver] found in cache\n"
     ]
    },
    {
     "name": "stdout",
     "output_type": "stream",
     "text": [
      "52 Limão\n",
      "79\n",
      "Resultados:  81\n",
      "7 ['Quer descobrir seu potencial de compra?', 'Simular financiamento']\n",
      "8 ['Imóveis escolhidos a dedo pra você.', 'Saber mais detalhes']\n"
     ]
    },
    {
     "name": "stderr",
     "output_type": "stream",
     "text": [
      "\n",
      "\n",
      "INFO:WDM:\n",
      "\n",
      "====== WebDriver manager ======\n",
      "INFO:WDM:====== WebDriver manager ======\n",
      "Current google-chrome version is 91.0.4472\n",
      "INFO:WDM:Current google-chrome version is 91.0.4472\n",
      "Get LATEST driver version for 91.0.4472\n",
      "INFO:WDM:Get LATEST driver version for 91.0.4472\n",
      "Driver [/Users/leuzinger/.wdm/drivers/chromedriver/mac64/91.0.4472.101/chromedriver] found in cache\n",
      "INFO:WDM:Driver [/Users/leuzinger/.wdm/drivers/chromedriver/mac64/91.0.4472.101/chromedriver] found in cache\n"
     ]
    },
    {
     "name": "stdout",
     "output_type": "stream",
     "text": [
      "53 Mandaqui\n",
      "214\n",
      "erro resultados\n",
      "Resultados(Erro):  200\n",
      "Resultados:  200\n",
      "7 ['Quer descobrir seu potencial de compra?', 'Simular financiamento']\n",
      "8 ['Imóveis escolhidos a dedo pra você.', 'Saber mais detalhes']\n"
     ]
    },
    {
     "name": "stderr",
     "output_type": "stream",
     "text": [
      "\n",
      "\n",
      "INFO:WDM:\n",
      "\n",
      "====== WebDriver manager ======\n",
      "INFO:WDM:====== WebDriver manager ======\n",
      "Current google-chrome version is 91.0.4472\n",
      "INFO:WDM:Current google-chrome version is 91.0.4472\n",
      "Get LATEST driver version for 91.0.4472\n",
      "INFO:WDM:Get LATEST driver version for 91.0.4472\n",
      "Driver [/Users/leuzinger/.wdm/drivers/chromedriver/mac64/91.0.4472.101/chromedriver] found in cache\n",
      "INFO:WDM:Driver [/Users/leuzinger/.wdm/drivers/chromedriver/mac64/91.0.4472.101/chromedriver] found in cache\n"
     ]
    },
    {
     "name": "stdout",
     "output_type": "stream",
     "text": [
      "54 Moema Índios\n",
      "221\n",
      "Resultados:  226\n",
      "7 ['Quer descobrir seu potencial de compra?', 'Simular financiamento']\n",
      "8 ['Imóveis escolhidos a dedo pra você.', 'Saber mais detalhes']\n"
     ]
    },
    {
     "name": "stderr",
     "output_type": "stream",
     "text": [
      "\n",
      "\n",
      "INFO:WDM:\n",
      "\n",
      "====== WebDriver manager ======\n",
      "INFO:WDM:====== WebDriver manager ======\n",
      "Current google-chrome version is 91.0.4472\n",
      "INFO:WDM:Current google-chrome version is 91.0.4472\n",
      "Get LATEST driver version for 91.0.4472\n",
      "INFO:WDM:Get LATEST driver version for 91.0.4472\n",
      "Driver [/Users/leuzinger/.wdm/drivers/chromedriver/mac64/91.0.4472.101/chromedriver] found in cache\n",
      "INFO:WDM:Driver [/Users/leuzinger/.wdm/drivers/chromedriver/mac64/91.0.4472.101/chromedriver] found in cache\n"
     ]
    },
    {
     "name": "stdout",
     "output_type": "stream",
     "text": [
      "55 Moema Pássaros\n",
      "197\n",
      "Resultados:  202\n",
      "7 ['Quer descobrir seu potencial de compra?', 'Simular financiamento']\n",
      "8 ['Imóveis escolhidos a dedo pra você.', 'Saber mais detalhes']\n"
     ]
    },
    {
     "name": "stderr",
     "output_type": "stream",
     "text": [
      "\n",
      "\n",
      "INFO:WDM:\n",
      "\n",
      "====== WebDriver manager ======\n",
      "INFO:WDM:====== WebDriver manager ======\n",
      "Current google-chrome version is 91.0.4472\n",
      "INFO:WDM:Current google-chrome version is 91.0.4472\n",
      "Get LATEST driver version for 91.0.4472\n",
      "INFO:WDM:Get LATEST driver version for 91.0.4472\n",
      "Driver [/Users/leuzinger/.wdm/drivers/chromedriver/mac64/91.0.4472.101/chromedriver] found in cache\n",
      "INFO:WDM:Driver [/Users/leuzinger/.wdm/drivers/chromedriver/mac64/91.0.4472.101/chromedriver] found in cache\n"
     ]
    },
    {
     "name": "stdout",
     "output_type": "stream",
     "text": [
      "56 Mooca\n",
      "276\n",
      "Resultados:  281\n",
      "7 ['Quer descobrir seu potencial de compra?', 'Simular financiamento']\n",
      "8 ['Imóveis escolhidos a dedo pra você.', 'Saber mais detalhes']\n"
     ]
    },
    {
     "name": "stderr",
     "output_type": "stream",
     "text": [
      "\n",
      "\n",
      "INFO:WDM:\n",
      "\n",
      "====== WebDriver manager ======\n",
      "INFO:WDM:====== WebDriver manager ======\n",
      "Current google-chrome version is 91.0.4472\n",
      "INFO:WDM:Current google-chrome version is 91.0.4472\n",
      "Get LATEST driver version for 91.0.4472\n",
      "INFO:WDM:Get LATEST driver version for 91.0.4472\n",
      "Driver [/Users/leuzinger/.wdm/drivers/chromedriver/mac64/91.0.4472.101/chromedriver] found in cache\n",
      "INFO:WDM:Driver [/Users/leuzinger/.wdm/drivers/chromedriver/mac64/91.0.4472.101/chromedriver] found in cache\n"
     ]
    },
    {
     "name": "stdout",
     "output_type": "stream",
     "text": [
      "57 Morumbi\n",
      "249\n",
      "Resultados:  254\n",
      "7 ['Quer descobrir seu potencial de compra?', 'Simular financiamento']\n",
      "8 ['Imóveis escolhidos a dedo pra você.', 'Saber mais detalhes']\n"
     ]
    },
    {
     "name": "stderr",
     "output_type": "stream",
     "text": [
      "\n",
      "\n",
      "INFO:WDM:\n",
      "\n",
      "====== WebDriver manager ======\n",
      "INFO:WDM:====== WebDriver manager ======\n",
      "Current google-chrome version is 91.0.4472\n",
      "INFO:WDM:Current google-chrome version is 91.0.4472\n",
      "Get LATEST driver version for 91.0.4472\n",
      "INFO:WDM:Get LATEST driver version for 91.0.4472\n",
      "Driver [/Users/leuzinger/.wdm/drivers/chromedriver/mac64/91.0.4472.101/chromedriver] found in cache\n",
      "INFO:WDM:Driver [/Users/leuzinger/.wdm/drivers/chromedriver/mac64/91.0.4472.101/chromedriver] found in cache\n"
     ]
    },
    {
     "name": "stdout",
     "output_type": "stream",
     "text": [
      "58 Paraíso\n",
      "190\n",
      "erro resultados\n",
      "Resultados(Erro):  182\n",
      "Resultados:  182\n",
      "7 ['Quer descobrir seu potencial de compra?', 'Simular financiamento']\n",
      "8 ['Imóveis escolhidos a dedo pra você.', 'Saber mais detalhes']\n"
     ]
    },
    {
     "name": "stderr",
     "output_type": "stream",
     "text": [
      "\n",
      "\n",
      "INFO:WDM:\n",
      "\n",
      "====== WebDriver manager ======\n",
      "INFO:WDM:====== WebDriver manager ======\n",
      "Current google-chrome version is 91.0.4472\n",
      "INFO:WDM:Current google-chrome version is 91.0.4472\n",
      "Get LATEST driver version for 91.0.4472\n",
      "INFO:WDM:Get LATEST driver version for 91.0.4472\n",
      "Driver [/Users/leuzinger/.wdm/drivers/chromedriver/mac64/91.0.4472.101/chromedriver] found in cache\n",
      "INFO:WDM:Driver [/Users/leuzinger/.wdm/drivers/chromedriver/mac64/91.0.4472.101/chromedriver] found in cache\n"
     ]
    },
    {
     "name": "stdout",
     "output_type": "stream",
     "text": [
      "59 Pari\n",
      "9\n",
      "Resultados:  14\n",
      "7 ['Quer descobrir seu potencial de compra?', 'Simular financiamento']\n",
      "8 ['Imóveis escolhidos a dedo pra você.', 'Saber mais detalhes']\n"
     ]
    },
    {
     "name": "stderr",
     "output_type": "stream",
     "text": [
      "\n",
      "\n",
      "INFO:WDM:\n",
      "\n",
      "====== WebDriver manager ======\n",
      "INFO:WDM:====== WebDriver manager ======\n",
      "Current google-chrome version is 91.0.4472\n",
      "INFO:WDM:Current google-chrome version is 91.0.4472\n",
      "Get LATEST driver version for 91.0.4472\n",
      "INFO:WDM:Get LATEST driver version for 91.0.4472\n",
      "Driver [/Users/leuzinger/.wdm/drivers/chromedriver/mac64/91.0.4472.101/chromedriver] found in cache\n",
      "INFO:WDM:Driver [/Users/leuzinger/.wdm/drivers/chromedriver/mac64/91.0.4472.101/chromedriver] found in cache\n"
     ]
    },
    {
     "name": "stdout",
     "output_type": "stream",
     "text": [
      "60 Parque do Carmo\n",
      "24\n",
      "Resultados:  26\n",
      "7 ['Quer descobrir seu potencial de compra?', 'Simular financiamento']\n",
      "8 ['Imóveis escolhidos a dedo pra você.', 'Saber mais detalhes']\n"
     ]
    },
    {
     "name": "stderr",
     "output_type": "stream",
     "text": [
      "\n",
      "\n",
      "INFO:WDM:\n",
      "\n",
      "====== WebDriver manager ======\n",
      "INFO:WDM:====== WebDriver manager ======\n",
      "Current google-chrome version is 91.0.4472\n",
      "INFO:WDM:Current google-chrome version is 91.0.4472\n",
      "Get LATEST driver version for 91.0.4472\n",
      "INFO:WDM:Get LATEST driver version for 91.0.4472\n",
      "Driver [/Users/leuzinger/.wdm/drivers/chromedriver/mac64/91.0.4472.101/chromedriver] found in cache\n",
      "INFO:WDM:Driver [/Users/leuzinger/.wdm/drivers/chromedriver/mac64/91.0.4472.101/chromedriver] found in cache\n"
     ]
    },
    {
     "name": "stdout",
     "output_type": "stream",
     "text": [
      "61 Pedreira\n",
      "10\n",
      "Resultados:  15\n",
      "7 ['Quer descobrir seu potencial de compra?', 'Simular financiamento']\n",
      "8 ['Imóveis escolhidos a dedo pra você.', 'Saber mais detalhes']\n"
     ]
    },
    {
     "name": "stderr",
     "output_type": "stream",
     "text": [
      "\n",
      "\n",
      "INFO:WDM:\n",
      "\n",
      "====== WebDriver manager ======\n",
      "INFO:WDM:====== WebDriver manager ======\n",
      "Current google-chrome version is 91.0.4472\n",
      "INFO:WDM:Current google-chrome version is 91.0.4472\n",
      "Get LATEST driver version for 91.0.4472\n",
      "INFO:WDM:Get LATEST driver version for 91.0.4472\n",
      "Driver [/Users/leuzinger/.wdm/drivers/chromedriver/mac64/91.0.4472.101/chromedriver] found in cache\n",
      "INFO:WDM:Driver [/Users/leuzinger/.wdm/drivers/chromedriver/mac64/91.0.4472.101/chromedriver] found in cache\n"
     ]
    },
    {
     "name": "stdout",
     "output_type": "stream",
     "text": [
      "62 Penha\n",
      "126\n",
      "Resultados:  131\n",
      "7 ['Quer descobrir seu potencial de compra?', 'Simular financiamento']\n",
      "8 ['Imóveis escolhidos a dedo pra você.', 'Saber mais detalhes']\n"
     ]
    },
    {
     "name": "stderr",
     "output_type": "stream",
     "text": [
      "\n",
      "\n",
      "INFO:WDM:\n",
      "\n",
      "====== WebDriver manager ======\n",
      "INFO:WDM:====== WebDriver manager ======\n",
      "Current google-chrome version is 91.0.4472\n",
      "INFO:WDM:Current google-chrome version is 91.0.4472\n",
      "Get LATEST driver version for 91.0.4472\n",
      "INFO:WDM:Get LATEST driver version for 91.0.4472\n",
      "Driver [/Users/leuzinger/.wdm/drivers/chromedriver/mac64/91.0.4472.101/chromedriver] found in cache\n",
      "INFO:WDM:Driver [/Users/leuzinger/.wdm/drivers/chromedriver/mac64/91.0.4472.101/chromedriver] found in cache\n"
     ]
    },
    {
     "name": "stdout",
     "output_type": "stream",
     "text": [
      "63 Perdizes\n",
      "475\n",
      "Resultados:  480\n",
      "7 ['Quer descobrir seu potencial de compra?', 'Simular financiamento']\n",
      "8 ['Imóveis escolhidos a dedo pra você.', 'Saber mais detalhes']\n"
     ]
    },
    {
     "name": "stderr",
     "output_type": "stream",
     "text": [
      "\n",
      "\n",
      "INFO:WDM:\n",
      "\n",
      "====== WebDriver manager ======\n",
      "INFO:WDM:====== WebDriver manager ======\n",
      "Current google-chrome version is 91.0.4472\n",
      "INFO:WDM:Current google-chrome version is 91.0.4472\n",
      "Get LATEST driver version for 91.0.4472\n",
      "INFO:WDM:Get LATEST driver version for 91.0.4472\n",
      "Driver [/Users/leuzinger/.wdm/drivers/chromedriver/mac64/91.0.4472.101/chromedriver] found in cache\n",
      "INFO:WDM:Driver [/Users/leuzinger/.wdm/drivers/chromedriver/mac64/91.0.4472.101/chromedriver] found in cache\n"
     ]
    },
    {
     "name": "stdout",
     "output_type": "stream",
     "text": [
      "64 Pinheiros\n",
      "288\n",
      "Resultados:  290\n",
      "7 ['Quer descobrir seu potencial de compra?', 'Simular financiamento']\n",
      "8 ['Imóveis escolhidos a dedo pra você.', 'Saber mais detalhes']\n"
     ]
    },
    {
     "name": "stderr",
     "output_type": "stream",
     "text": [
      "\n",
      "\n",
      "INFO:WDM:\n",
      "\n",
      "====== WebDriver manager ======\n",
      "INFO:WDM:====== WebDriver manager ======\n",
      "Current google-chrome version is 91.0.4472\n",
      "INFO:WDM:Current google-chrome version is 91.0.4472\n",
      "Get LATEST driver version for 91.0.4472\n",
      "INFO:WDM:Get LATEST driver version for 91.0.4472\n",
      "Driver [/Users/leuzinger/.wdm/drivers/chromedriver/mac64/91.0.4472.101/chromedriver] found in cache\n",
      "INFO:WDM:Driver [/Users/leuzinger/.wdm/drivers/chromedriver/mac64/91.0.4472.101/chromedriver] found in cache\n"
     ]
    },
    {
     "name": "stdout",
     "output_type": "stream",
     "text": [
      "65 Pirituba\n",
      "136\n",
      "erro resultados\n",
      "Resultados(Erro):  128\n",
      "Resultados:  128\n",
      "7 ['Quer descobrir seu potencial de compra?', 'Simular financiamento']\n",
      "8 ['Imóveis escolhidos a dedo pra você.', 'Saber mais detalhes']\n"
     ]
    },
    {
     "name": "stderr",
     "output_type": "stream",
     "text": [
      "\n",
      "\n",
      "INFO:WDM:\n",
      "\n",
      "====== WebDriver manager ======\n",
      "INFO:WDM:====== WebDriver manager ======\n",
      "Current google-chrome version is 91.0.4472\n",
      "INFO:WDM:Current google-chrome version is 91.0.4472\n",
      "Get LATEST driver version for 91.0.4472\n",
      "INFO:WDM:Get LATEST driver version for 91.0.4472\n",
      "Driver [/Users/leuzinger/.wdm/drivers/chromedriver/mac64/91.0.4472.101/chromedriver] found in cache\n",
      "INFO:WDM:Driver [/Users/leuzinger/.wdm/drivers/chromedriver/mac64/91.0.4472.101/chromedriver] found in cache\n"
     ]
    },
    {
     "name": "stdout",
     "output_type": "stream",
     "text": [
      "66 Ponte Rasa\n",
      "37\n",
      "erro resultados\n",
      "Resultados(Erro):  38\n",
      "Resultados:  38\n",
      "7 ['Quer descobrir seu potencial de compra?', 'Simular financiamento']\n",
      "8 ['Imóveis escolhidos a dedo pra você.', 'Saber mais detalhes']\n"
     ]
    },
    {
     "name": "stderr",
     "output_type": "stream",
     "text": [
      "\n",
      "\n",
      "INFO:WDM:\n",
      "\n",
      "====== WebDriver manager ======\n",
      "INFO:WDM:====== WebDriver manager ======\n",
      "Current google-chrome version is 91.0.4472\n",
      "INFO:WDM:Current google-chrome version is 91.0.4472\n",
      "Get LATEST driver version for 91.0.4472\n",
      "INFO:WDM:Get LATEST driver version for 91.0.4472\n",
      "Driver [/Users/leuzinger/.wdm/drivers/chromedriver/mac64/91.0.4472.101/chromedriver] found in cache\n",
      "INFO:WDM:Driver [/Users/leuzinger/.wdm/drivers/chromedriver/mac64/91.0.4472.101/chromedriver] found in cache\n"
     ]
    },
    {
     "name": "stdout",
     "output_type": "stream",
     "text": [
      "67 Raposo Tavares\n",
      "65\n",
      "Resultados:  67\n",
      "7 ['Quer descobrir seu potencial de compra?', 'Simular financiamento']\n",
      "8 ['Imóveis escolhidos a dedo pra você.', 'Saber mais detalhes']\n"
     ]
    },
    {
     "name": "stderr",
     "output_type": "stream",
     "text": [
      "\n",
      "\n",
      "INFO:WDM:\n",
      "\n",
      "====== WebDriver manager ======\n",
      "INFO:WDM:====== WebDriver manager ======\n",
      "Current google-chrome version is 91.0.4472\n",
      "INFO:WDM:Current google-chrome version is 91.0.4472\n",
      "Get LATEST driver version for 91.0.4472\n",
      "INFO:WDM:Get LATEST driver version for 91.0.4472\n",
      "Driver [/Users/leuzinger/.wdm/drivers/chromedriver/mac64/91.0.4472.101/chromedriver] found in cache\n",
      "INFO:WDM:Driver [/Users/leuzinger/.wdm/drivers/chromedriver/mac64/91.0.4472.101/chromedriver] found in cache\n"
     ]
    },
    {
     "name": "stdout",
     "output_type": "stream",
     "text": [
      "68 República\n",
      "433\n",
      "erro resultados\n",
      "Resultados(Erro):  434\n",
      "Resultados:  434\n",
      "7 ['Quer descobrir seu potencial de compra?', 'Simular financiamento']\n",
      "8 ['Imóveis escolhidos a dedo pra você.', 'Saber mais detalhes']\n"
     ]
    },
    {
     "name": "stderr",
     "output_type": "stream",
     "text": [
      "\n",
      "\n",
      "INFO:WDM:\n",
      "\n",
      "====== WebDriver manager ======\n",
      "INFO:WDM:====== WebDriver manager ======\n",
      "Current google-chrome version is 91.0.4472\n",
      "INFO:WDM:Current google-chrome version is 91.0.4472\n",
      "Get LATEST driver version for 91.0.4472\n",
      "INFO:WDM:Get LATEST driver version for 91.0.4472\n",
      "Driver [/Users/leuzinger/.wdm/drivers/chromedriver/mac64/91.0.4472.101/chromedriver] found in cache\n",
      "INFO:WDM:Driver [/Users/leuzinger/.wdm/drivers/chromedriver/mac64/91.0.4472.101/chromedriver] found in cache\n"
     ]
    },
    {
     "name": "stdout",
     "output_type": "stream",
     "text": [
      "69 Rio Pequeno\n",
      "158\n",
      "Resultados:  160\n",
      "7 ['Quer descobrir seu potencial de compra?', 'Simular financiamento']\n",
      "8 ['Imóveis escolhidos a dedo pra você.', 'Saber mais detalhes']\n"
     ]
    },
    {
     "name": "stderr",
     "output_type": "stream",
     "text": [
      "\n",
      "\n",
      "INFO:WDM:\n",
      "\n",
      "====== WebDriver manager ======\n",
      "INFO:WDM:====== WebDriver manager ======\n",
      "Current google-chrome version is 91.0.4472\n",
      "INFO:WDM:Current google-chrome version is 91.0.4472\n",
      "Get LATEST driver version for 91.0.4472\n",
      "INFO:WDM:Get LATEST driver version for 91.0.4472\n",
      "Driver [/Users/leuzinger/.wdm/drivers/chromedriver/mac64/91.0.4472.101/chromedriver] found in cache\n",
      "INFO:WDM:Driver [/Users/leuzinger/.wdm/drivers/chromedriver/mac64/91.0.4472.101/chromedriver] found in cache\n"
     ]
    },
    {
     "name": "stdout",
     "output_type": "stream",
     "text": [
      "70 Sacomã\n",
      "535\n",
      "Resultados:  537\n",
      "7 ['Quer descobrir seu potencial de compra?', 'Simular financiamento']\n",
      "8 ['Imóveis escolhidos a dedo pra você.', 'Saber mais detalhes']\n"
     ]
    },
    {
     "name": "stderr",
     "output_type": "stream",
     "text": [
      "\n",
      "\n",
      "INFO:WDM:\n",
      "\n",
      "====== WebDriver manager ======\n",
      "INFO:WDM:====== WebDriver manager ======\n",
      "Current google-chrome version is 91.0.4472\n",
      "INFO:WDM:Current google-chrome version is 91.0.4472\n",
      "Get LATEST driver version for 91.0.4472\n",
      "INFO:WDM:Get LATEST driver version for 91.0.4472\n",
      "Driver [/Users/leuzinger/.wdm/drivers/chromedriver/mac64/91.0.4472.101/chromedriver] found in cache\n",
      "INFO:WDM:Driver [/Users/leuzinger/.wdm/drivers/chromedriver/mac64/91.0.4472.101/chromedriver] found in cache\n"
     ]
    },
    {
     "name": "stdout",
     "output_type": "stream",
     "text": [
      "71 Santa Cecília\n",
      "269\n",
      "Resultados:  271\n",
      "7 ['Quer descobrir seu potencial de compra?', 'Simular financiamento']\n",
      "8 ['Imóveis escolhidos a dedo pra você.', 'Saber mais detalhes']\n"
     ]
    },
    {
     "name": "stderr",
     "output_type": "stream",
     "text": [
      "\n",
      "\n",
      "INFO:WDM:\n",
      "\n",
      "====== WebDriver manager ======\n",
      "INFO:WDM:====== WebDriver manager ======\n",
      "Current google-chrome version is 91.0.4472\n",
      "INFO:WDM:Current google-chrome version is 91.0.4472\n",
      "Get LATEST driver version for 91.0.4472\n",
      "INFO:WDM:Get LATEST driver version for 91.0.4472\n",
      "Driver [/Users/leuzinger/.wdm/drivers/chromedriver/mac64/91.0.4472.101/chromedriver] found in cache\n",
      "INFO:WDM:Driver [/Users/leuzinger/.wdm/drivers/chromedriver/mac64/91.0.4472.101/chromedriver] found in cache\n"
     ]
    },
    {
     "name": "stdout",
     "output_type": "stream",
     "text": [
      "72 Santana\n",
      "484\n",
      "Resultados:  489\n",
      "7 ['Quer descobrir seu potencial de compra?', 'Simular financiamento']\n",
      "8 ['Imóveis escolhidos a dedo pra você.', 'Saber mais detalhes']\n"
     ]
    },
    {
     "name": "stderr",
     "output_type": "stream",
     "text": [
      "\n",
      "\n",
      "INFO:WDM:\n",
      "\n",
      "====== WebDriver manager ======\n",
      "INFO:WDM:====== WebDriver manager ======\n",
      "Current google-chrome version is 91.0.4472\n",
      "INFO:WDM:Current google-chrome version is 91.0.4472\n",
      "Get LATEST driver version for 91.0.4472\n",
      "INFO:WDM:Get LATEST driver version for 91.0.4472\n",
      "Driver [/Users/leuzinger/.wdm/drivers/chromedriver/mac64/91.0.4472.101/chromedriver] found in cache\n",
      "INFO:WDM:Driver [/Users/leuzinger/.wdm/drivers/chromedriver/mac64/91.0.4472.101/chromedriver] found in cache\n"
     ]
    },
    {
     "name": "stdout",
     "output_type": "stream",
     "text": [
      "73 Santo Amaro\n",
      "289\n",
      "erro resultados\n",
      "Resultados(Erro):  290\n",
      "Resultados:  290\n",
      "7 ['Quer descobrir seu potencial de compra?', 'Simular financiamento']\n",
      "8 ['Imóveis escolhidos a dedo pra você.', 'Saber mais detalhes']\n"
     ]
    },
    {
     "name": "stderr",
     "output_type": "stream",
     "text": [
      "\n",
      "\n",
      "INFO:WDM:\n",
      "\n",
      "====== WebDriver manager ======\n",
      "INFO:WDM:====== WebDriver manager ======\n",
      "Current google-chrome version is 91.0.4472\n",
      "INFO:WDM:Current google-chrome version is 91.0.4472\n",
      "Get LATEST driver version for 91.0.4472\n",
      "INFO:WDM:Get LATEST driver version for 91.0.4472\n",
      "Driver [/Users/leuzinger/.wdm/drivers/chromedriver/mac64/91.0.4472.101/chromedriver] found in cache\n",
      "INFO:WDM:Driver [/Users/leuzinger/.wdm/drivers/chromedriver/mac64/91.0.4472.101/chromedriver] found in cache\n"
     ]
    },
    {
     "name": "stdout",
     "output_type": "stream",
     "text": [
      "74 São Domingos\n",
      "64\n",
      "Resultados:  66\n",
      "7 ['Quer descobrir seu potencial de compra?', 'Simular financiamento']\n",
      "8 ['Imóveis escolhidos a dedo pra você.', 'Saber mais detalhes']\n"
     ]
    },
    {
     "name": "stderr",
     "output_type": "stream",
     "text": [
      "\n",
      "\n",
      "INFO:WDM:\n",
      "\n",
      "====== WebDriver manager ======\n",
      "INFO:WDM:====== WebDriver manager ======\n",
      "Current google-chrome version is 91.0.4472\n",
      "INFO:WDM:Current google-chrome version is 91.0.4472\n",
      "Get LATEST driver version for 91.0.4472\n",
      "INFO:WDM:Get LATEST driver version for 91.0.4472\n",
      "Driver [/Users/leuzinger/.wdm/drivers/chromedriver/mac64/91.0.4472.101/chromedriver] found in cache\n",
      "INFO:WDM:Driver [/Users/leuzinger/.wdm/drivers/chromedriver/mac64/91.0.4472.101/chromedriver] found in cache\n"
     ]
    },
    {
     "name": "stdout",
     "output_type": "stream",
     "text": [
      "75 São Lucas\n",
      "120\n",
      "Resultados:  122\n",
      "7 ['Quer descobrir seu potencial de compra?', 'Simular financiamento']\n",
      "8 ['Imóveis escolhidos a dedo pra você.', 'Saber mais detalhes']\n"
     ]
    },
    {
     "name": "stderr",
     "output_type": "stream",
     "text": [
      "\n",
      "\n",
      "INFO:WDM:\n",
      "\n",
      "====== WebDriver manager ======\n",
      "INFO:WDM:====== WebDriver manager ======\n",
      "Current google-chrome version is 91.0.4472\n",
      "INFO:WDM:Current google-chrome version is 91.0.4472\n",
      "Get LATEST driver version for 91.0.4472\n",
      "INFO:WDM:Get LATEST driver version for 91.0.4472\n",
      "Driver [/Users/leuzinger/.wdm/drivers/chromedriver/mac64/91.0.4472.101/chromedriver] found in cache\n",
      "INFO:WDM:Driver [/Users/leuzinger/.wdm/drivers/chromedriver/mac64/91.0.4472.101/chromedriver] found in cache\n"
     ]
    },
    {
     "name": "stdout",
     "output_type": "stream",
     "text": [
      "76 São Mateus\n",
      "84\n",
      "Resultados:  86\n",
      "7 ['Quer descobrir seu potencial de compra?', 'Simular financiamento']\n",
      "8 ['Imóveis escolhidos a dedo pra você.', 'Saber mais detalhes']\n"
     ]
    },
    {
     "name": "stderr",
     "output_type": "stream",
     "text": [
      "\n",
      "\n",
      "INFO:WDM:\n",
      "\n",
      "====== WebDriver manager ======\n",
      "INFO:WDM:====== WebDriver manager ======\n",
      "Current google-chrome version is 91.0.4472\n",
      "INFO:WDM:Current google-chrome version is 91.0.4472\n",
      "Get LATEST driver version for 91.0.4472\n",
      "INFO:WDM:Get LATEST driver version for 91.0.4472\n",
      "Driver [/Users/leuzinger/.wdm/drivers/chromedriver/mac64/91.0.4472.101/chromedriver] found in cache\n",
      "INFO:WDM:Driver [/Users/leuzinger/.wdm/drivers/chromedriver/mac64/91.0.4472.101/chromedriver] found in cache\n"
     ]
    },
    {
     "name": "stdout",
     "output_type": "stream",
     "text": [
      "77 Sapopemba\n",
      "3\n",
      "Resultados:  7\n",
      "3 ['Quer descobrir seu potencial de compra?', 'Simular financiamento']\n"
     ]
    },
    {
     "name": "stderr",
     "output_type": "stream",
     "text": [
      "\n",
      "\n",
      "INFO:WDM:\n",
      "\n",
      "====== WebDriver manager ======\n",
      "INFO:WDM:====== WebDriver manager ======\n",
      "Current google-chrome version is 91.0.4472\n",
      "INFO:WDM:Current google-chrome version is 91.0.4472\n",
      "Get LATEST driver version for 91.0.4472\n",
      "INFO:WDM:Get LATEST driver version for 91.0.4472\n",
      "Driver [/Users/leuzinger/.wdm/drivers/chromedriver/mac64/91.0.4472.101/chromedriver] found in cache\n",
      "INFO:WDM:Driver [/Users/leuzinger/.wdm/drivers/chromedriver/mac64/91.0.4472.101/chromedriver] found in cache\n"
     ]
    },
    {
     "name": "stdout",
     "output_type": "stream",
     "text": [
      "78 Saúde\n",
      "352\n",
      "Resultados:  355\n",
      "7 ['Quer descobrir seu potencial de compra?', 'Simular financiamento']\n",
      "8 ['Imóveis escolhidos a dedo pra você.', 'Saber mais detalhes']\n"
     ]
    },
    {
     "name": "stderr",
     "output_type": "stream",
     "text": [
      "\n",
      "\n",
      "INFO:WDM:\n",
      "\n",
      "====== WebDriver manager ======\n",
      "INFO:WDM:====== WebDriver manager ======\n",
      "Current google-chrome version is 91.0.4472\n",
      "INFO:WDM:Current google-chrome version is 91.0.4472\n",
      "Get LATEST driver version for 91.0.4472\n",
      "INFO:WDM:Get LATEST driver version for 91.0.4472\n",
      "Driver [/Users/leuzinger/.wdm/drivers/chromedriver/mac64/91.0.4472.101/chromedriver] found in cache\n",
      "INFO:WDM:Driver [/Users/leuzinger/.wdm/drivers/chromedriver/mac64/91.0.4472.101/chromedriver] found in cache\n"
     ]
    },
    {
     "name": "stdout",
     "output_type": "stream",
     "text": [
      "79 Sé\n",
      "99\n",
      "Resultados:  101\n",
      "7 ['Quer descobrir seu potencial de compra?', 'Simular financiamento']\n",
      "8 ['Imóveis escolhidos a dedo pra você.', 'Saber mais detalhes']\n"
     ]
    },
    {
     "name": "stderr",
     "output_type": "stream",
     "text": [
      "\n",
      "\n",
      "INFO:WDM:\n",
      "\n",
      "====== WebDriver manager ======\n",
      "INFO:WDM:====== WebDriver manager ======\n",
      "Current google-chrome version is 91.0.4472\n",
      "INFO:WDM:Current google-chrome version is 91.0.4472\n",
      "Get LATEST driver version for 91.0.4472\n",
      "INFO:WDM:Get LATEST driver version for 91.0.4472\n",
      "Driver [/Users/leuzinger/.wdm/drivers/chromedriver/mac64/91.0.4472.101/chromedriver] found in cache\n",
      "INFO:WDM:Driver [/Users/leuzinger/.wdm/drivers/chromedriver/mac64/91.0.4472.101/chromedriver] found in cache\n"
     ]
    },
    {
     "name": "stdout",
     "output_type": "stream",
     "text": [
      "80 Socorro\n",
      "24\n",
      "Resultados:  26\n",
      "7 ['Quer descobrir seu potencial de compra?', 'Simular financiamento']\n",
      "8 ['Imóveis escolhidos a dedo pra você.', 'Saber mais detalhes']\n"
     ]
    },
    {
     "name": "stderr",
     "output_type": "stream",
     "text": [
      "\n",
      "\n",
      "INFO:WDM:\n",
      "\n",
      "====== WebDriver manager ======\n",
      "INFO:WDM:====== WebDriver manager ======\n",
      "Current google-chrome version is 91.0.4472\n",
      "INFO:WDM:Current google-chrome version is 91.0.4472\n",
      "Get LATEST driver version for 91.0.4472\n",
      "INFO:WDM:Get LATEST driver version for 91.0.4472\n",
      "Driver [/Users/leuzinger/.wdm/drivers/chromedriver/mac64/91.0.4472.101/chromedriver] found in cache\n",
      "INFO:WDM:Driver [/Users/leuzinger/.wdm/drivers/chromedriver/mac64/91.0.4472.101/chromedriver] found in cache\n"
     ]
    },
    {
     "name": "stdout",
     "output_type": "stream",
     "text": [
      "81 Sumaré\n",
      "116\n",
      "erro resultados\n",
      "Resultados(Erro):  110\n",
      "Resultados:  110\n",
      "7 ['Quer descobrir seu potencial de compra?', 'Simular financiamento']\n",
      "8 ['Imóveis escolhidos a dedo pra você.', 'Saber mais detalhes']\n"
     ]
    },
    {
     "name": "stderr",
     "output_type": "stream",
     "text": [
      "\n",
      "\n",
      "INFO:WDM:\n",
      "\n",
      "====== WebDriver manager ======\n",
      "INFO:WDM:====== WebDriver manager ======\n",
      "Current google-chrome version is 91.0.4472\n",
      "INFO:WDM:Current google-chrome version is 91.0.4472\n",
      "Get LATEST driver version for 91.0.4472\n",
      "INFO:WDM:Get LATEST driver version for 91.0.4472\n",
      "Driver [/Users/leuzinger/.wdm/drivers/chromedriver/mac64/91.0.4472.101/chromedriver] found in cache\n",
      "INFO:WDM:Driver [/Users/leuzinger/.wdm/drivers/chromedriver/mac64/91.0.4472.101/chromedriver] found in cache\n"
     ]
    },
    {
     "name": "stdout",
     "output_type": "stream",
     "text": [
      "82 Tatuapé\n",
      "342\n",
      "Resultados:  347\n",
      "7 ['Quer descobrir seu potencial de compra?', 'Simular financiamento']\n",
      "8 ['Imóveis escolhidos a dedo pra você.', 'Saber mais detalhes']\n"
     ]
    },
    {
     "name": "stderr",
     "output_type": "stream",
     "text": [
      "\n",
      "\n",
      "INFO:WDM:\n",
      "\n",
      "====== WebDriver manager ======\n",
      "INFO:WDM:====== WebDriver manager ======\n",
      "Current google-chrome version is 91.0.4472\n",
      "INFO:WDM:Current google-chrome version is 91.0.4472\n",
      "Get LATEST driver version for 91.0.4472\n",
      "INFO:WDM:Get LATEST driver version for 91.0.4472\n",
      "Driver [/Users/leuzinger/.wdm/drivers/chromedriver/mac64/91.0.4472.101/chromedriver] found in cache\n",
      "INFO:WDM:Driver [/Users/leuzinger/.wdm/drivers/chromedriver/mac64/91.0.4472.101/chromedriver] found in cache\n"
     ]
    },
    {
     "name": "stdout",
     "output_type": "stream",
     "text": [
      "83 Tremembé\n",
      "48\n",
      "Resultados:  50\n",
      "7 ['Quer descobrir seu potencial de compra?', 'Simular financiamento']\n",
      "8 ['Imóveis escolhidos a dedo pra você.', 'Saber mais detalhes']\n"
     ]
    },
    {
     "name": "stderr",
     "output_type": "stream",
     "text": [
      "\n",
      "\n",
      "INFO:WDM:\n",
      "\n",
      "====== WebDriver manager ======\n",
      "INFO:WDM:====== WebDriver manager ======\n",
      "Current google-chrome version is 91.0.4472\n",
      "INFO:WDM:Current google-chrome version is 91.0.4472\n",
      "Get LATEST driver version for 91.0.4472\n",
      "INFO:WDM:Get LATEST driver version for 91.0.4472\n",
      "Driver [/Users/leuzinger/.wdm/drivers/chromedriver/mac64/91.0.4472.101/chromedriver] found in cache\n",
      "INFO:WDM:Driver [/Users/leuzinger/.wdm/drivers/chromedriver/mac64/91.0.4472.101/chromedriver] found in cache\n"
     ]
    },
    {
     "name": "stdout",
     "output_type": "stream",
     "text": [
      "84 Tucuruvi\n",
      "166\n",
      "Resultados:  171\n",
      "7 ['Quer descobrir seu potencial de compra?', 'Simular financiamento']\n",
      "8 ['Imóveis escolhidos a dedo pra você.', 'Saber mais detalhes']\n"
     ]
    },
    {
     "name": "stderr",
     "output_type": "stream",
     "text": [
      "\n",
      "\n",
      "INFO:WDM:\n",
      "\n",
      "====== WebDriver manager ======\n",
      "INFO:WDM:====== WebDriver manager ======\n",
      "Current google-chrome version is 91.0.4472\n",
      "INFO:WDM:Current google-chrome version is 91.0.4472\n",
      "Get LATEST driver version for 91.0.4472\n",
      "INFO:WDM:Get LATEST driver version for 91.0.4472\n",
      "Driver [/Users/leuzinger/.wdm/drivers/chromedriver/mac64/91.0.4472.101/chromedriver] found in cache\n",
      "INFO:WDM:Driver [/Users/leuzinger/.wdm/drivers/chromedriver/mac64/91.0.4472.101/chromedriver] found in cache\n"
     ]
    },
    {
     "name": "stdout",
     "output_type": "stream",
     "text": [
      "85 Vila Andrade\n",
      "964\n",
      "Resultados:  969\n",
      "7 ['Quer descobrir seu potencial de compra?', 'Simular financiamento']\n",
      "8 ['Imóveis escolhidos a dedo pra você.', 'Saber mais detalhes']\n"
     ]
    },
    {
     "name": "stderr",
     "output_type": "stream",
     "text": [
      "\n",
      "\n",
      "INFO:WDM:\n",
      "\n",
      "====== WebDriver manager ======\n",
      "INFO:WDM:====== WebDriver manager ======\n",
      "Current google-chrome version is 91.0.4472\n",
      "INFO:WDM:Current google-chrome version is 91.0.4472\n",
      "Get LATEST driver version for 91.0.4472\n",
      "INFO:WDM:Get LATEST driver version for 91.0.4472\n",
      "Driver [/Users/leuzinger/.wdm/drivers/chromedriver/mac64/91.0.4472.101/chromedriver] found in cache\n",
      "INFO:WDM:Driver [/Users/leuzinger/.wdm/drivers/chromedriver/mac64/91.0.4472.101/chromedriver] found in cache\n"
     ]
    },
    {
     "name": "stdout",
     "output_type": "stream",
     "text": [
      "86 Vila Clementino\n",
      "90\n",
      "Resultados:  92\n",
      "7 ['Quer descobrir seu potencial de compra?', 'Simular financiamento']\n",
      "8 ['Imóveis escolhidos a dedo pra você.', 'Saber mais detalhes']\n"
     ]
    },
    {
     "name": "stderr",
     "output_type": "stream",
     "text": [
      "\n",
      "\n",
      "INFO:WDM:\n",
      "\n",
      "====== WebDriver manager ======\n",
      "INFO:WDM:====== WebDriver manager ======\n",
      "Current google-chrome version is 91.0.4472\n",
      "INFO:WDM:Current google-chrome version is 91.0.4472\n",
      "Get LATEST driver version for 91.0.4472\n",
      "INFO:WDM:Get LATEST driver version for 91.0.4472\n",
      "Driver [/Users/leuzinger/.wdm/drivers/chromedriver/mac64/91.0.4472.101/chromedriver] found in cache\n",
      "INFO:WDM:Driver [/Users/leuzinger/.wdm/drivers/chromedriver/mac64/91.0.4472.101/chromedriver] found in cache\n"
     ]
    },
    {
     "name": "stdout",
     "output_type": "stream",
     "text": [
      "87 Vila Formosa\n",
      "130\n",
      "Resultados:  135\n",
      "7 ['Quer descobrir seu potencial de compra?', 'Simular financiamento']\n",
      "8 ['Imóveis escolhidos a dedo pra você.', 'Saber mais detalhes']\n"
     ]
    },
    {
     "name": "stderr",
     "output_type": "stream",
     "text": [
      "\n",
      "\n",
      "INFO:WDM:\n",
      "\n",
      "====== WebDriver manager ======\n",
      "INFO:WDM:====== WebDriver manager ======\n",
      "Current google-chrome version is 91.0.4472\n",
      "INFO:WDM:Current google-chrome version is 91.0.4472\n",
      "Get LATEST driver version for 91.0.4472\n",
      "INFO:WDM:Get LATEST driver version for 91.0.4472\n",
      "Driver [/Users/leuzinger/.wdm/drivers/chromedriver/mac64/91.0.4472.101/chromedriver] found in cache\n",
      "INFO:WDM:Driver [/Users/leuzinger/.wdm/drivers/chromedriver/mac64/91.0.4472.101/chromedriver] found in cache\n"
     ]
    },
    {
     "name": "stdout",
     "output_type": "stream",
     "text": [
      "88 Vila Guilherme\n",
      "120\n",
      "Resultados:  122\n",
      "7 ['Quer descobrir seu potencial de compra?', 'Simular financiamento']\n",
      "8 ['Imóveis escolhidos a dedo pra você.', 'Saber mais detalhes']\n"
     ]
    },
    {
     "name": "stderr",
     "output_type": "stream",
     "text": [
      "\n",
      "\n",
      "INFO:WDM:\n",
      "\n",
      "====== WebDriver manager ======\n",
      "INFO:WDM:====== WebDriver manager ======\n",
      "Current google-chrome version is 91.0.4472\n",
      "INFO:WDM:Current google-chrome version is 91.0.4472\n",
      "Get LATEST driver version for 91.0.4472\n",
      "INFO:WDM:Get LATEST driver version for 91.0.4472\n",
      "Driver [/Users/leuzinger/.wdm/drivers/chromedriver/mac64/91.0.4472.101/chromedriver] found in cache\n",
      "INFO:WDM:Driver [/Users/leuzinger/.wdm/drivers/chromedriver/mac64/91.0.4472.101/chromedriver] found in cache\n"
     ]
    },
    {
     "name": "stdout",
     "output_type": "stream",
     "text": [
      "89 Vila Leopoldina\n",
      "124\n",
      "Resultados:  126\n",
      "7 ['Quer descobrir seu potencial de compra?', 'Simular financiamento']\n",
      "8 ['Imóveis escolhidos a dedo pra você.', 'Saber mais detalhes']\n"
     ]
    },
    {
     "name": "stderr",
     "output_type": "stream",
     "text": [
      "\n",
      "\n",
      "INFO:WDM:\n",
      "\n",
      "====== WebDriver manager ======\n",
      "INFO:WDM:====== WebDriver manager ======\n",
      "Current google-chrome version is 91.0.4472\n",
      "INFO:WDM:Current google-chrome version is 91.0.4472\n",
      "Get LATEST driver version for 91.0.4472\n",
      "INFO:WDM:Get LATEST driver version for 91.0.4472\n",
      "Driver [/Users/leuzinger/.wdm/drivers/chromedriver/mac64/91.0.4472.101/chromedriver] found in cache\n",
      "INFO:WDM:Driver [/Users/leuzinger/.wdm/drivers/chromedriver/mac64/91.0.4472.101/chromedriver] found in cache\n"
     ]
    },
    {
     "name": "stdout",
     "output_type": "stream",
     "text": [
      "90 Vila Madalena\n",
      "212\n",
      "Resultados:  217\n",
      "7 ['Quer descobrir seu potencial de compra?', 'Simular financiamento']\n",
      "8 ['Imóveis escolhidos a dedo pra você.', 'Saber mais detalhes']\n"
     ]
    },
    {
     "name": "stderr",
     "output_type": "stream",
     "text": [
      "\n",
      "\n",
      "INFO:WDM:\n",
      "\n",
      "====== WebDriver manager ======\n",
      "INFO:WDM:====== WebDriver manager ======\n",
      "Current google-chrome version is 91.0.4472\n",
      "INFO:WDM:Current google-chrome version is 91.0.4472\n",
      "Get LATEST driver version for 91.0.4472\n",
      "INFO:WDM:Get LATEST driver version for 91.0.4472\n",
      "Driver [/Users/leuzinger/.wdm/drivers/chromedriver/mac64/91.0.4472.101/chromedriver] found in cache\n",
      "INFO:WDM:Driver [/Users/leuzinger/.wdm/drivers/chromedriver/mac64/91.0.4472.101/chromedriver] found in cache\n"
     ]
    },
    {
     "name": "stdout",
     "output_type": "stream",
     "text": [
      "91 Vila Maria\n",
      "86\n",
      "Resultados:  88\n",
      "7 ['Quer descobrir seu potencial de compra?', 'Simular financiamento']\n",
      "8 ['Imóveis escolhidos a dedo pra você.', 'Saber mais detalhes']\n"
     ]
    },
    {
     "name": "stderr",
     "output_type": "stream",
     "text": [
      "\n",
      "\n",
      "INFO:WDM:\n",
      "\n",
      "====== WebDriver manager ======\n",
      "INFO:WDM:====== WebDriver manager ======\n",
      "Current google-chrome version is 91.0.4472\n",
      "INFO:WDM:Current google-chrome version is 91.0.4472\n",
      "Get LATEST driver version for 91.0.4472\n",
      "INFO:WDM:Get LATEST driver version for 91.0.4472\n",
      "Driver [/Users/leuzinger/.wdm/drivers/chromedriver/mac64/91.0.4472.101/chromedriver] found in cache\n",
      "INFO:WDM:Driver [/Users/leuzinger/.wdm/drivers/chromedriver/mac64/91.0.4472.101/chromedriver] found in cache\n"
     ]
    },
    {
     "name": "stdout",
     "output_type": "stream",
     "text": [
      "92 Vila Mariana\n",
      "148\n",
      "Resultados:  150\n",
      "7 ['Quer descobrir seu potencial de compra?', 'Simular financiamento']\n",
      "8 ['Imóveis escolhidos a dedo pra você.', 'Saber mais detalhes']\n"
     ]
    },
    {
     "name": "stderr",
     "output_type": "stream",
     "text": [
      "\n",
      "\n",
      "INFO:WDM:\n",
      "\n",
      "====== WebDriver manager ======\n",
      "INFO:WDM:====== WebDriver manager ======\n",
      "Current google-chrome version is 91.0.4472\n",
      "INFO:WDM:Current google-chrome version is 91.0.4472\n",
      "Get LATEST driver version for 91.0.4472\n",
      "INFO:WDM:Get LATEST driver version for 91.0.4472\n",
      "Driver [/Users/leuzinger/.wdm/drivers/chromedriver/mac64/91.0.4472.101/chromedriver] found in cache\n",
      "INFO:WDM:Driver [/Users/leuzinger/.wdm/drivers/chromedriver/mac64/91.0.4472.101/chromedriver] found in cache\n"
     ]
    },
    {
     "name": "stdout",
     "output_type": "stream",
     "text": [
      "93 Vila Matilde\n",
      "98\n",
      "Resultados:  100\n",
      "7 ['Quer descobrir seu potencial de compra?', 'Simular financiamento']\n",
      "8 ['Imóveis escolhidos a dedo pra você.', 'Saber mais detalhes']\n"
     ]
    },
    {
     "name": "stderr",
     "output_type": "stream",
     "text": [
      "\n",
      "\n",
      "INFO:WDM:\n",
      "\n",
      "====== WebDriver manager ======\n",
      "INFO:WDM:====== WebDriver manager ======\n",
      "Current google-chrome version is 91.0.4472\n",
      "INFO:WDM:Current google-chrome version is 91.0.4472\n",
      "Get LATEST driver version for 91.0.4472\n",
      "INFO:WDM:Get LATEST driver version for 91.0.4472\n",
      "Driver [/Users/leuzinger/.wdm/drivers/chromedriver/mac64/91.0.4472.101/chromedriver] found in cache\n",
      "INFO:WDM:Driver [/Users/leuzinger/.wdm/drivers/chromedriver/mac64/91.0.4472.101/chromedriver] found in cache\n"
     ]
    },
    {
     "name": "stdout",
     "output_type": "stream",
     "text": [
      "94 Vila Medeiros\n",
      "61\n",
      "Resultados:  63\n",
      "7 ['Quer descobrir seu potencial de compra?', 'Simular financiamento']\n",
      "8 ['Imóveis escolhidos a dedo pra você.', 'Saber mais detalhes']\n"
     ]
    },
    {
     "name": "stderr",
     "output_type": "stream",
     "text": [
      "\n",
      "\n",
      "INFO:WDM:\n",
      "\n",
      "====== WebDriver manager ======\n",
      "INFO:WDM:====== WebDriver manager ======\n",
      "Current google-chrome version is 91.0.4472\n",
      "INFO:WDM:Current google-chrome version is 91.0.4472\n",
      "Get LATEST driver version for 91.0.4472\n",
      "INFO:WDM:Get LATEST driver version for 91.0.4472\n",
      "Driver [/Users/leuzinger/.wdm/drivers/chromedriver/mac64/91.0.4472.101/chromedriver] found in cache\n",
      "INFO:WDM:Driver [/Users/leuzinger/.wdm/drivers/chromedriver/mac64/91.0.4472.101/chromedriver] found in cache\n"
     ]
    },
    {
     "name": "stdout",
     "output_type": "stream",
     "text": [
      "95 Vila Nova Conceição\n",
      "78\n",
      "Resultados:  80\n",
      "7 ['Quer descobrir seu potencial de compra?', 'Simular financiamento']\n",
      "8 ['Imóveis escolhidos a dedo pra você.', 'Saber mais detalhes']\n"
     ]
    },
    {
     "name": "stderr",
     "output_type": "stream",
     "text": [
      "\n",
      "\n",
      "INFO:WDM:\n",
      "\n",
      "====== WebDriver manager ======\n",
      "INFO:WDM:====== WebDriver manager ======\n",
      "Current google-chrome version is 91.0.4472\n",
      "INFO:WDM:Current google-chrome version is 91.0.4472\n",
      "Get LATEST driver version for 91.0.4472\n",
      "INFO:WDM:Get LATEST driver version for 91.0.4472\n",
      "Driver [/Users/leuzinger/.wdm/drivers/chromedriver/mac64/91.0.4472.101/chromedriver] found in cache\n",
      "INFO:WDM:Driver [/Users/leuzinger/.wdm/drivers/chromedriver/mac64/91.0.4472.101/chromedriver] found in cache\n"
     ]
    },
    {
     "name": "stdout",
     "output_type": "stream",
     "text": [
      "96 Vila Olímpia\n",
      "315\n",
      "Resultados:  320\n",
      "7 ['Quer descobrir seu potencial de compra?', 'Simular financiamento']\n",
      "8 ['Imóveis escolhidos a dedo pra você.', 'Saber mais detalhes']\n"
     ]
    },
    {
     "name": "stderr",
     "output_type": "stream",
     "text": [
      "\n",
      "\n",
      "INFO:WDM:\n",
      "\n",
      "====== WebDriver manager ======\n",
      "INFO:WDM:====== WebDriver manager ======\n",
      "Current google-chrome version is 91.0.4472\n",
      "INFO:WDM:Current google-chrome version is 91.0.4472\n",
      "Get LATEST driver version for 91.0.4472\n",
      "INFO:WDM:Get LATEST driver version for 91.0.4472\n",
      "Driver [/Users/leuzinger/.wdm/drivers/chromedriver/mac64/91.0.4472.101/chromedriver] found in cache\n",
      "INFO:WDM:Driver [/Users/leuzinger/.wdm/drivers/chromedriver/mac64/91.0.4472.101/chromedriver] found in cache\n"
     ]
    },
    {
     "name": "stdout",
     "output_type": "stream",
     "text": [
      "97 Vila Prudente\n",
      "174\n",
      "erro resultados\n",
      "Resultados(Erro):  164\n",
      "Resultados:  164\n",
      "7 ['Quer descobrir seu potencial de compra?', 'Simular financiamento']\n",
      "8 ['Imóveis escolhidos a dedo pra você.', 'Saber mais detalhes']\n"
     ]
    },
    {
     "name": "stderr",
     "output_type": "stream",
     "text": [
      "\n",
      "\n",
      "INFO:WDM:\n",
      "\n",
      "====== WebDriver manager ======\n",
      "INFO:WDM:====== WebDriver manager ======\n",
      "Current google-chrome version is 91.0.4472\n",
      "INFO:WDM:Current google-chrome version is 91.0.4472\n",
      "Get LATEST driver version for 91.0.4472\n",
      "INFO:WDM:Get LATEST driver version for 91.0.4472\n",
      "Driver [/Users/leuzinger/.wdm/drivers/chromedriver/mac64/91.0.4472.101/chromedriver] found in cache\n",
      "INFO:WDM:Driver [/Users/leuzinger/.wdm/drivers/chromedriver/mac64/91.0.4472.101/chromedriver] found in cache\n"
     ]
    },
    {
     "name": "stdout",
     "output_type": "stream",
     "text": [
      "98 Vila Romana\n",
      "282\n",
      "Resultados:  284\n",
      "7 ['Quer descobrir seu potencial de compra?', 'Simular financiamento']\n",
      "8 ['Imóveis escolhidos a dedo pra você.', 'Saber mais detalhes']\n"
     ]
    },
    {
     "name": "stderr",
     "output_type": "stream",
     "text": [
      "\n",
      "\n",
      "INFO:WDM:\n",
      "\n",
      "====== WebDriver manager ======\n",
      "INFO:WDM:====== WebDriver manager ======\n",
      "Current google-chrome version is 91.0.4472\n",
      "INFO:WDM:Current google-chrome version is 91.0.4472\n",
      "Get LATEST driver version for 91.0.4472\n",
      "INFO:WDM:Get LATEST driver version for 91.0.4472\n",
      "Driver [/Users/leuzinger/.wdm/drivers/chromedriver/mac64/91.0.4472.101/chromedriver] found in cache\n",
      "INFO:WDM:Driver [/Users/leuzinger/.wdm/drivers/chromedriver/mac64/91.0.4472.101/chromedriver] found in cache\n"
     ]
    },
    {
     "name": "stdout",
     "output_type": "stream",
     "text": [
      "99 Vila Sônia\n",
      "332\n",
      "Resultados:  337\n",
      "7 ['Quer descobrir seu potencial de compra?', 'Simular financiamento']\n",
      "8 ['Imóveis escolhidos a dedo pra você.', 'Saber mais detalhes']\n"
     ]
    }
   ],
   "source": [
    "dados_ap = pd.DataFrame(columns=['preço','endereço','área','quartos','vagas'])\n",
    "\n",
    "for i in range(tot_bairros):\n",
    "\n",
    "    #abrir a página da Loft\n",
    "    driver = webdriver.Chrome(ChromeDriverManager().install())\n",
    "    driver.implicitly_wait(10)\n",
    "    driver.get(\"https://loft.com.br/apartamentos/sao-paulo-sp/\")\n",
    "    \n",
    "    #filtrar primeiro bairro bairro\n",
    "    bairros_botão = driver.find_elements_by_xpath('//*[@id=\"__next\"]/section/div/div/div[1]/div[2]/div/div/div[2]/div[2]/div')[0]\n",
    "    bairros_botão.click()\n",
    "    sleep(1)\n",
    "    \n",
    "    bairros = driver.find_elements_by_class_name('MuiTypography-root.MuiFormControlLabel-label.MuiTypography-body1')\n",
    "    botão_target = bairros[i]\n",
    "    actions = ActionChains(driver)\n",
    "    actions.move_to_element(botão_target)\n",
    "    actions.perform()\n",
    "    sleep(1)    \n",
    "    \n",
    "    bairros[i].click()\n",
    "    print(i+1,bairros[i].text)\n",
    "    sleep(1)\n",
    "    \n",
    "    filtro = driver.find_elements_by_xpath('/html/body/div[4]/div[3]/div/div[2]/button[2]')[0]\n",
    "    filtro.click()\n",
    "    \n",
    "    #pegar número de aps no bairro\n",
    "    aps = driver.find_element_by_xpath('//*[@id=\"__next\"]/section/div/div/div[2]/section[1]/div/div[1]/div[1]/div[1]/div/span')\n",
    "    while aps.text == '':\n",
    "        aps = driver.find_element_by_xpath('//*[@id=\"__next\"]/section/div/div/div[2]/section[1]/div/div[1]/div[1]/div[1]/div/span')\n",
    "        if aps.text !='':\n",
    "            break\n",
    "    aps_text = aps.text\n",
    "    aps_len = int(aps_text)\n",
    "    print(aps_len)\n",
    "    resultados = []\n",
    "    \n",
    "    #loop para navegar pela página\n",
    "    while len(resultados)<aps_len:\n",
    "        try:\n",
    "            resultados = driver.find_elements_by_class_name('MuiCardContent-root')\n",
    "            try:\n",
    "                element = WebDriverWait(driver, 10).until(EC.presence_of_element_located((By.CLASS_NAME,'ScrollTracker')))\n",
    "            finally:\n",
    "                target = driver.find_element_by_class_name('ScrollTracker')\n",
    "                actions = ActionChains(driver)\n",
    "                actions.move_to_element(target)\n",
    "                actions.perform()\n",
    "        except:\n",
    "            print('erro resultados')\n",
    "            print('Resultados(Erro): ',len(resultados))\n",
    "            break\n",
    "    \n",
    "    print('Resultados: ',len(resultados))\n",
    "    \n",
    "    #salvar dados no df\n",
    "    for k in range(len(resultados)):\n",
    "        try:\n",
    "            ap = resultados[k].text.split('\\n')\n",
    "            #print(len(ap))\n",
    "            if len(ap)>5:\n",
    "                del ap[-1]\n",
    "                ap_ = pd.Series(ap, index = dados_ap.columns)\n",
    "                dados_ap = dados_ap.append(ap_, ignore_index=True)\n",
    "            else:\n",
    "                ap_ = pd.Series(ap, index = dados_ap.columns)\n",
    "                dados_ap = dados_ap.append(ap_, ignore_index=True)\n",
    "        except: \n",
    "            print(k,ap) \n",
    "            pass\n",
    "    \n",
    "    driver.quit()\n",
    "    \n",
    "    '''\n",
    "    #filtrar próximo bairro\n",
    "    bairros_botão = driver.find_elements_by_xpath('//*[@id=\"__next\"]/section/div/div/div[1]/div[2]/div/div/div[2]/div[2]/div')[0]\n",
    "    bairros_botão.click()\n",
    "    \n",
    "    sleep(1)\n",
    "    bairros = driver.find_elements_by_class_name('MuiTypography-root.MuiFormControlLabel-label.MuiTypography-body1')\n",
    "    #print(bairros[i-1].text)\n",
    "    bairros[i-1].click()\n",
    "    \n",
    "    #sleep(1)\n",
    "    print(i+1,bairros[i].text)\n",
    "    bairros[i].click()\n",
    "    \n",
    "    sleep(1)\n",
    "    filtro = driver.find_elements_by_xpath('/html/body/div[4]/div[3]/div/div[2]/button[2]')[0]\n",
    "    filtro.click()\n",
    "    #sleep(1)\n",
    "\n",
    "#pegar número de aps no último bairro\n",
    "aps = driver.find_element_by_xpath('//*[@id=\"__next\"]/section/div/div/div[2]/section[1]/div/div[1]/div[1]/div[1]/div/span')\n",
    "while aps.text == '':\n",
    "    aps = driver.find_element_by_xpath('//*[@id=\"__next\"]/section/div/div/div[2]/section[1]/div/div[1]/div[1]/div[1]/div/span')\n",
    "    if aps.text !='':\n",
    "        break\n",
    "aps_text = aps.text\n",
    "aps_len = int(aps_text)\n",
    "print(aps_text)\n",
    "resultados = []\n",
    "\n",
    "#loop para navegar pelas páginas com os aps\n",
    "while len(resultados)<aps_len:\n",
    "    try:\n",
    "        resultados = driver.find_elements_by_class_name('MuiCardContent-root.jss493')\n",
    "        try:\n",
    "            element = WebDriverWait(driver, 10).until(EC.presence_of_element_located((By.CLASS_NAME,'ScrollTracker')))\n",
    "        finally:\n",
    "            target = driver.find_element_by_class_name('ScrollTracker')\n",
    "            actions = ActionChains(driver)\n",
    "            actions.move_to_element(target)\n",
    "            actions.perform()\n",
    "            #sleep(3)\n",
    "    except:\n",
    "        print('erro')\n",
    "        pass\n",
    "#print(len(resultados))\n",
    "    \n",
    "for k in range(len(resultados)):\n",
    "    try:\n",
    "        ap = resultados[k].text.split('\\n')\n",
    "        #print(len(ap))\n",
    "        if len(ap)>5:\n",
    "            del ap[-1]\n",
    "            ap_ = pd.Series(ap, index = dados_ap.columns)\n",
    "            dados_ap = dados_ap.append(ap_, ignore_index=True)\n",
    "        else:\n",
    "            ap_ = pd.Series(ap, index = dados_ap.columns)\n",
    "            dados_ap = dados_ap.append(ap_, ignore_index=True)\n",
    "    except: \n",
    "        print(ap) \n",
    "        pass'''"
   ]
  },
  {
   "cell_type": "code",
   "execution_count": 17,
   "metadata": {},
   "outputs": [
    {
     "name": "stdout",
     "output_type": "stream",
     "text": [
      "<class 'pandas.core.frame.DataFrame'>\n",
      "RangeIndex: 16380 entries, 0 to 16379\n",
      "Data columns (total 5 columns):\n",
      " #   Column    Non-Null Count  Dtype \n",
      "---  ------    --------------  ----- \n",
      " 0   preço     16380 non-null  object\n",
      " 1   endereço  16380 non-null  object\n",
      " 2   área      16380 non-null  object\n",
      " 3   quartos   16380 non-null  object\n",
      " 4   vagas     16380 non-null  object\n",
      "dtypes: object(5)\n",
      "memory usage: 640.0+ KB\n"
     ]
    }
   ],
   "source": [
    "dados_ap.info()"
   ]
  },
  {
   "cell_type": "code",
   "execution_count": 19,
   "metadata": {},
   "outputs": [
    {
     "data": {
      "text/html": [
       "<div>\n",
       "<style scoped>\n",
       "    .dataframe tbody tr th:only-of-type {\n",
       "        vertical-align: middle;\n",
       "    }\n",
       "\n",
       "    .dataframe tbody tr th {\n",
       "        vertical-align: top;\n",
       "    }\n",
       "\n",
       "    .dataframe thead th {\n",
       "        text-align: right;\n",
       "    }\n",
       "</style>\n",
       "<table border=\"1\" class=\"dataframe\">\n",
       "  <thead>\n",
       "    <tr style=\"text-align: right;\">\n",
       "      <th></th>\n",
       "      <th>preço</th>\n",
       "      <th>endereço</th>\n",
       "      <th>área</th>\n",
       "      <th>quartos</th>\n",
       "      <th>vagas</th>\n",
       "    </tr>\n",
       "  </thead>\n",
       "  <tbody>\n",
       "    <tr>\n",
       "      <th>0</th>\n",
       "      <td>R$ 1.295.000</td>\n",
       "      <td>Rua Paula Ney, Aclimação</td>\n",
       "      <td>94 m²</td>\n",
       "      <td>3 quartos</td>\n",
       "      <td>2 vagas</td>\n",
       "    </tr>\n",
       "    <tr>\n",
       "      <th>1</th>\n",
       "      <td>R$ 1.410.000</td>\n",
       "      <td>Rua Castro Alves, Aclimação</td>\n",
       "      <td>195 m²</td>\n",
       "      <td>4 quartos</td>\n",
       "      <td>3 vagas</td>\n",
       "    </tr>\n",
       "    <tr>\n",
       "      <th>2</th>\n",
       "      <td>R$ 899.000</td>\n",
       "      <td>Rua Urano, Aclimação</td>\n",
       "      <td>118 m²</td>\n",
       "      <td>3 quartos</td>\n",
       "      <td>2 vagas</td>\n",
       "    </tr>\n",
       "    <tr>\n",
       "      <th>3</th>\n",
       "      <td>R$ 540.000</td>\n",
       "      <td>Rua Álvaro Guimarães, Aclimação</td>\n",
       "      <td>29 m²</td>\n",
       "      <td>Studio</td>\n",
       "      <td>1 vaga</td>\n",
       "    </tr>\n",
       "    <tr>\n",
       "      <th>4</th>\n",
       "      <td>R$ 1.175.000</td>\n",
       "      <td>Rua Bartolomeu de Gusmão, Aclimação</td>\n",
       "      <td>135 m²</td>\n",
       "      <td>4 quartos</td>\n",
       "      <td>2 vagas</td>\n",
       "    </tr>\n",
       "  </tbody>\n",
       "</table>\n",
       "</div>"
      ],
      "text/plain": [
       "          preço                             endereço    área    quartos  \\\n",
       "0  R$ 1.295.000             Rua Paula Ney, Aclimação   94 m²  3 quartos   \n",
       "1  R$ 1.410.000          Rua Castro Alves, Aclimação  195 m²  4 quartos   \n",
       "2    R$ 899.000                 Rua Urano, Aclimação  118 m²  3 quartos   \n",
       "3    R$ 540.000      Rua Álvaro Guimarães, Aclimação   29 m²     Studio   \n",
       "4  R$ 1.175.000  Rua Bartolomeu de Gusmão, Aclimação  135 m²  4 quartos   \n",
       "\n",
       "     vagas  \n",
       "0  2 vagas  \n",
       "1  3 vagas  \n",
       "2  2 vagas  \n",
       "3   1 vaga  \n",
       "4  2 vagas  "
      ]
     },
     "execution_count": 19,
     "metadata": {},
     "output_type": "execute_result"
    }
   ],
   "source": [
    "dados_ap.head()"
   ]
  },
  {
   "cell_type": "code",
   "execution_count": 27,
   "metadata": {},
   "outputs": [
    {
     "data": {
      "text/html": [
       "<div>\n",
       "<style scoped>\n",
       "    .dataframe tbody tr th:only-of-type {\n",
       "        vertical-align: middle;\n",
       "    }\n",
       "\n",
       "    .dataframe tbody tr th {\n",
       "        vertical-align: top;\n",
       "    }\n",
       "\n",
       "    .dataframe thead th {\n",
       "        text-align: right;\n",
       "    }\n",
       "</style>\n",
       "<table border=\"1\" class=\"dataframe\">\n",
       "  <thead>\n",
       "    <tr style=\"text-align: right;\">\n",
       "      <th></th>\n",
       "      <th>preço</th>\n",
       "      <th>endereço</th>\n",
       "      <th>área</th>\n",
       "      <th>quartos</th>\n",
       "      <th>vagas</th>\n",
       "      <th>bairro</th>\n",
       "    </tr>\n",
       "  </thead>\n",
       "  <tbody>\n",
       "    <tr>\n",
       "      <th>0</th>\n",
       "      <td>R$ 1.295.000</td>\n",
       "      <td>Rua Paula Ney</td>\n",
       "      <td>94 m²</td>\n",
       "      <td>3 quartos</td>\n",
       "      <td>2 vagas</td>\n",
       "      <td>Aclimação</td>\n",
       "    </tr>\n",
       "    <tr>\n",
       "      <th>1</th>\n",
       "      <td>R$ 1.410.000</td>\n",
       "      <td>Rua Castro Alves</td>\n",
       "      <td>195 m²</td>\n",
       "      <td>4 quartos</td>\n",
       "      <td>3 vagas</td>\n",
       "      <td>Aclimação</td>\n",
       "    </tr>\n",
       "    <tr>\n",
       "      <th>2</th>\n",
       "      <td>R$ 899.000</td>\n",
       "      <td>Rua Urano</td>\n",
       "      <td>118 m²</td>\n",
       "      <td>3 quartos</td>\n",
       "      <td>2 vagas</td>\n",
       "      <td>Aclimação</td>\n",
       "    </tr>\n",
       "    <tr>\n",
       "      <th>3</th>\n",
       "      <td>R$ 540.000</td>\n",
       "      <td>Rua Álvaro Guimarães</td>\n",
       "      <td>29 m²</td>\n",
       "      <td>Studio</td>\n",
       "      <td>1 vaga</td>\n",
       "      <td>Aclimação</td>\n",
       "    </tr>\n",
       "    <tr>\n",
       "      <th>4</th>\n",
       "      <td>R$ 1.175.000</td>\n",
       "      <td>Rua Bartolomeu de Gusmão</td>\n",
       "      <td>135 m²</td>\n",
       "      <td>4 quartos</td>\n",
       "      <td>2 vagas</td>\n",
       "      <td>Aclimação</td>\n",
       "    </tr>\n",
       "  </tbody>\n",
       "</table>\n",
       "</div>"
      ],
      "text/plain": [
       "          preço                  endereço    área    quartos    vagas  \\\n",
       "0  R$ 1.295.000             Rua Paula Ney   94 m²  3 quartos  2 vagas   \n",
       "1  R$ 1.410.000          Rua Castro Alves  195 m²  4 quartos  3 vagas   \n",
       "2    R$ 899.000                 Rua Urano  118 m²  3 quartos  2 vagas   \n",
       "3    R$ 540.000      Rua Álvaro Guimarães   29 m²     Studio   1 vaga   \n",
       "4  R$ 1.175.000  Rua Bartolomeu de Gusmão  135 m²  4 quartos  2 vagas   \n",
       "\n",
       "       bairro  \n",
       "0   Aclimação  \n",
       "1   Aclimação  \n",
       "2   Aclimação  \n",
       "3   Aclimação  \n",
       "4   Aclimação  "
      ]
     },
     "execution_count": 27,
     "metadata": {},
     "output_type": "execute_result"
    }
   ],
   "source": [
    "dados = dados_ap.copy()\n",
    "dados[['endereço','bairro']] = dados_ap.endereço.str.split(\",\",expand=True)\n",
    "dados.head()"
   ]
  },
  {
   "cell_type": "code",
   "execution_count": 28,
   "metadata": {},
   "outputs": [
    {
     "name": "stdout",
     "output_type": "stream",
     "text": [
      "<class 'pandas.core.frame.DataFrame'>\n",
      "RangeIndex: 16380 entries, 0 to 16379\n",
      "Data columns (total 6 columns):\n",
      " #   Column    Non-Null Count  Dtype \n",
      "---  ------    --------------  ----- \n",
      " 0   preço     16380 non-null  object\n",
      " 1   endereço  16380 non-null  object\n",
      " 2   área      16380 non-null  object\n",
      " 3   quartos   16380 non-null  object\n",
      " 4   vagas     16380 non-null  object\n",
      " 5   bairro    16380 non-null  object\n",
      "dtypes: object(6)\n",
      "memory usage: 767.9+ KB\n"
     ]
    }
   ],
   "source": [
    "dados.info()"
   ]
  },
  {
   "cell_type": "code",
   "execution_count": 29,
   "metadata": {},
   "outputs": [
    {
     "data": {
      "text/plain": [
       "preço       2765\n",
       "endereço    3352\n",
       "área         413\n",
       "quartos        8\n",
       "vagas          8\n",
       "bairro        99\n",
       "dtype: int64"
      ]
     },
     "execution_count": 29,
     "metadata": {},
     "output_type": "execute_result"
    }
   ],
   "source": [
    "dados.nunique()"
   ]
  },
  {
   "cell_type": "code",
   "execution_count": 31,
   "metadata": {
    "scrolled": true
   },
   "outputs": [
    {
     "data": {
      "text/plain": [
       " Vila Andrade      987\n",
       " Bela Vista        567\n",
       " Sacomã            535\n",
       " Jabaquara         510\n",
       " Santana           484\n",
       "                  ... \n",
       " José Bonifácio      2\n",
       " Jardim Helena       2\n",
       " Guaianases          1\n",
       " Lajeado             1\n",
       " Jaraguá             1\n",
       "Name: bairro, Length: 99, dtype: int64"
      ]
     },
     "execution_count": 31,
     "metadata": {},
     "output_type": "execute_result"
    }
   ],
   "source": [
    "dados['bairro'].value_counts()"
   ]
  },
  {
   "cell_type": "code",
   "execution_count": 33,
   "metadata": {},
   "outputs": [],
   "source": [
    "dados.to_csv(r'/Users/leuzinger/Dropbox/Data Science/Awari/Web Scraping/Dados_ap.csv',index=False)"
   ]
  }
 ],
 "metadata": {
  "kernelspec": {
   "display_name": "Python 3",
   "language": "python",
   "name": "python3"
  },
  "language_info": {
   "codemirror_mode": {
    "name": "ipython",
    "version": 3
   },
   "file_extension": ".py",
   "mimetype": "text/x-python",
   "name": "python",
   "nbconvert_exporter": "python",
   "pygments_lexer": "ipython3",
   "version": "3.8.5"
  }
 },
 "nbformat": 4,
 "nbformat_minor": 4
}
