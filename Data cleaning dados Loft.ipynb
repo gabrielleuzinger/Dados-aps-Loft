{
 "cells": [
  {
   "cell_type": "markdown",
   "metadata": {},
   "source": [
    "# Data cleaning dos dados coletados na Loft"
   ]
  },
  {
   "cell_type": "markdown",
   "metadata": {},
   "source": [
    "Este notebook é parte das tarefas do curso de Data Science da [Awari](https://awari.com.br/). **O objetivo deste projeto é fazer é limpar o data set construído com os dados de apartamentos em São Paulo coletados no site da Loft**.\n",
    "\n",
    "O data set original contém 16380 apartamentos detalhados por 6 atributos: preço, endereço, área, quartos, vagas e bairro.\n",
    "\n",
    "Primeiro, vamos verficar se há linhas duplicadas e remove-las caso existam. Verificamos que há 281 linhas duplicadas. Em seguida, convertemos os dados das colunas preço, área, quartos e vagas para números."
   ]
  },
  {
   "cell_type": "code",
   "execution_count": 1,
   "metadata": {},
   "outputs": [],
   "source": [
    "import pandas as pd"
   ]
  },
  {
   "cell_type": "code",
   "execution_count": 2,
   "metadata": {},
   "outputs": [],
   "source": [
    "dados = pd.read_csv(r'/Users/leuzinger/Dropbox/Data Science/Awari/Web Scraping/Loft/Dados_ap.csv')"
   ]
  },
  {
   "cell_type": "code",
   "execution_count": 3,
   "metadata": {},
   "outputs": [
    {
     "name": "stdout",
     "output_type": "stream",
     "text": [
      "<class 'pandas.core.frame.DataFrame'>\n",
      "RangeIndex: 16380 entries, 0 to 16379\n",
      "Data columns (total 6 columns):\n",
      " #   Column    Non-Null Count  Dtype \n",
      "---  ------    --------------  ----- \n",
      " 0   preço     16380 non-null  object\n",
      " 1   endereço  16380 non-null  object\n",
      " 2   área      16380 non-null  object\n",
      " 3   quartos   16380 non-null  object\n",
      " 4   vagas     16380 non-null  object\n",
      " 5   bairro    16380 non-null  object\n",
      "dtypes: object(6)\n",
      "memory usage: 767.9+ KB\n"
     ]
    }
   ],
   "source": [
    "dados.info()"
   ]
  },
  {
   "cell_type": "code",
   "execution_count": 4,
   "metadata": {},
   "outputs": [
    {
     "data": {
      "text/html": [
       "<div>\n",
       "<style scoped>\n",
       "    .dataframe tbody tr th:only-of-type {\n",
       "        vertical-align: middle;\n",
       "    }\n",
       "\n",
       "    .dataframe tbody tr th {\n",
       "        vertical-align: top;\n",
       "    }\n",
       "\n",
       "    .dataframe thead th {\n",
       "        text-align: right;\n",
       "    }\n",
       "</style>\n",
       "<table border=\"1\" class=\"dataframe\">\n",
       "  <thead>\n",
       "    <tr style=\"text-align: right;\">\n",
       "      <th></th>\n",
       "      <th>preço</th>\n",
       "      <th>endereço</th>\n",
       "      <th>área</th>\n",
       "      <th>quartos</th>\n",
       "      <th>vagas</th>\n",
       "      <th>bairro</th>\n",
       "    </tr>\n",
       "  </thead>\n",
       "  <tbody>\n",
       "    <tr>\n",
       "      <th>0</th>\n",
       "      <td>R$ 1.295.000</td>\n",
       "      <td>Rua Paula Ney</td>\n",
       "      <td>94 m²</td>\n",
       "      <td>3 quartos</td>\n",
       "      <td>2 vagas</td>\n",
       "      <td>Aclimação</td>\n",
       "    </tr>\n",
       "    <tr>\n",
       "      <th>1</th>\n",
       "      <td>R$ 1.410.000</td>\n",
       "      <td>Rua Castro Alves</td>\n",
       "      <td>195 m²</td>\n",
       "      <td>4 quartos</td>\n",
       "      <td>3 vagas</td>\n",
       "      <td>Aclimação</td>\n",
       "    </tr>\n",
       "    <tr>\n",
       "      <th>2</th>\n",
       "      <td>R$ 899.000</td>\n",
       "      <td>Rua Urano</td>\n",
       "      <td>118 m²</td>\n",
       "      <td>3 quartos</td>\n",
       "      <td>2 vagas</td>\n",
       "      <td>Aclimação</td>\n",
       "    </tr>\n",
       "    <tr>\n",
       "      <th>3</th>\n",
       "      <td>R$ 540.000</td>\n",
       "      <td>Rua Álvaro Guimarães</td>\n",
       "      <td>29 m²</td>\n",
       "      <td>Studio</td>\n",
       "      <td>1 vaga</td>\n",
       "      <td>Aclimação</td>\n",
       "    </tr>\n",
       "    <tr>\n",
       "      <th>4</th>\n",
       "      <td>R$ 1.175.000</td>\n",
       "      <td>Rua Bartolomeu de Gusmão</td>\n",
       "      <td>135 m²</td>\n",
       "      <td>4 quartos</td>\n",
       "      <td>2 vagas</td>\n",
       "      <td>Aclimação</td>\n",
       "    </tr>\n",
       "  </tbody>\n",
       "</table>\n",
       "</div>"
      ],
      "text/plain": [
       "          preço                  endereço    área    quartos    vagas  \\\n",
       "0  R$ 1.295.000             Rua Paula Ney   94 m²  3 quartos  2 vagas   \n",
       "1  R$ 1.410.000          Rua Castro Alves  195 m²  4 quartos  3 vagas   \n",
       "2    R$ 899.000                 Rua Urano  118 m²  3 quartos  2 vagas   \n",
       "3    R$ 540.000      Rua Álvaro Guimarães   29 m²     Studio   1 vaga   \n",
       "4  R$ 1.175.000  Rua Bartolomeu de Gusmão  135 m²  4 quartos  2 vagas   \n",
       "\n",
       "       bairro  \n",
       "0   Aclimação  \n",
       "1   Aclimação  \n",
       "2   Aclimação  \n",
       "3   Aclimação  \n",
       "4   Aclimação  "
      ]
     },
     "execution_count": 4,
     "metadata": {},
     "output_type": "execute_result"
    }
   ],
   "source": [
    "dados.head()"
   ]
  },
  {
   "cell_type": "code",
   "execution_count": 5,
   "metadata": {},
   "outputs": [
    {
     "data": {
      "text/plain": [
       "Index(['preço', 'endereço', 'área', 'quartos', 'vagas', 'bairro'], dtype='object')"
      ]
     },
     "execution_count": 5,
     "metadata": {},
     "output_type": "execute_result"
    }
   ],
   "source": [
    "dados.columns"
   ]
  },
  {
   "cell_type": "code",
   "execution_count": 6,
   "metadata": {},
   "outputs": [
    {
     "data": {
      "text/html": [
       "<div>\n",
       "<style scoped>\n",
       "    .dataframe tbody tr th:only-of-type {\n",
       "        vertical-align: middle;\n",
       "    }\n",
       "\n",
       "    .dataframe tbody tr th {\n",
       "        vertical-align: top;\n",
       "    }\n",
       "\n",
       "    .dataframe thead th {\n",
       "        text-align: right;\n",
       "    }\n",
       "</style>\n",
       "<table border=\"1\" class=\"dataframe\">\n",
       "  <thead>\n",
       "    <tr style=\"text-align: right;\">\n",
       "      <th></th>\n",
       "      <th>preço</th>\n",
       "      <th>endereço</th>\n",
       "      <th>área</th>\n",
       "      <th>quartos</th>\n",
       "      <th>vagas</th>\n",
       "      <th>bairro</th>\n",
       "    </tr>\n",
       "  </thead>\n",
       "  <tbody>\n",
       "    <tr>\n",
       "      <th>271</th>\n",
       "      <td>R$ 520.000</td>\n",
       "      <td>Rua Doutor Nicolau de Sousa Queirós</td>\n",
       "      <td>75 m²</td>\n",
       "      <td>2 quartos</td>\n",
       "      <td>Sem vaga</td>\n",
       "      <td>Aclimação</td>\n",
       "    </tr>\n",
       "    <tr>\n",
       "      <th>308</th>\n",
       "      <td>R$ 460.000</td>\n",
       "      <td>Rua Vergueiro</td>\n",
       "      <td>54 m²</td>\n",
       "      <td>2 quartos</td>\n",
       "      <td>Sem vaga</td>\n",
       "      <td>Aclimação</td>\n",
       "    </tr>\n",
       "    <tr>\n",
       "      <th>320</th>\n",
       "      <td>R$ 580.000</td>\n",
       "      <td>Rua João Teixeira da Silva</td>\n",
       "      <td>76 m²</td>\n",
       "      <td>3 quartos</td>\n",
       "      <td>2 vagas</td>\n",
       "      <td>Água Rasa</td>\n",
       "    </tr>\n",
       "    <tr>\n",
       "      <th>481</th>\n",
       "      <td>R$ 850.000</td>\n",
       "      <td>Rua Doutor Goulart Penteado</td>\n",
       "      <td>130 m²</td>\n",
       "      <td>3 quartos</td>\n",
       "      <td>3 vagas</td>\n",
       "      <td>Água Rasa</td>\n",
       "    </tr>\n",
       "    <tr>\n",
       "      <th>551</th>\n",
       "      <td>R$ 550.000</td>\n",
       "      <td>Avenida Diógenes Ribeiro de Lima</td>\n",
       "      <td>54 m²</td>\n",
       "      <td>2 quartos</td>\n",
       "      <td>1 vaga</td>\n",
       "      <td>Alto De Pinheiros</td>\n",
       "    </tr>\n",
       "    <tr>\n",
       "      <th>...</th>\n",
       "      <td>...</td>\n",
       "      <td>...</td>\n",
       "      <td>...</td>\n",
       "      <td>...</td>\n",
       "      <td>...</td>\n",
       "      <td>...</td>\n",
       "    </tr>\n",
       "    <tr>\n",
       "      <th>16220</th>\n",
       "      <td>R$ 1.700.000</td>\n",
       "      <td>Rua Manoel Antônio Pinto</td>\n",
       "      <td>420 m²</td>\n",
       "      <td>4 quartos</td>\n",
       "      <td>4 vagas</td>\n",
       "      <td>Vila Sônia</td>\n",
       "    </tr>\n",
       "    <tr>\n",
       "      <th>16346</th>\n",
       "      <td>R$ 450.000</td>\n",
       "      <td>Rua Lessia Ukrainka</td>\n",
       "      <td>58 m²</td>\n",
       "      <td>2 quartos</td>\n",
       "      <td>1 vaga</td>\n",
       "      <td>Vila Sônia</td>\n",
       "    </tr>\n",
       "    <tr>\n",
       "      <th>16377</th>\n",
       "      <td>R$ 830.000</td>\n",
       "      <td>Rua Doutor Seng 28</td>\n",
       "      <td>98 m²</td>\n",
       "      <td>2 quartos</td>\n",
       "      <td>1 vaga</td>\n",
       "      <td>Bela Vista</td>\n",
       "    </tr>\n",
       "    <tr>\n",
       "      <th>16378</th>\n",
       "      <td>R$ 490.000</td>\n",
       "      <td>Rua Benedito Faber 29</td>\n",
       "      <td>67 m²</td>\n",
       "      <td>3 quartos</td>\n",
       "      <td>1 vaga</td>\n",
       "      <td>Vila Andrade</td>\n",
       "    </tr>\n",
       "    <tr>\n",
       "      <th>16379</th>\n",
       "      <td>R$ 355.000</td>\n",
       "      <td>Rua Caetano de Campos 80</td>\n",
       "      <td>50 m²</td>\n",
       "      <td>2 quartos</td>\n",
       "      <td>2 vagas</td>\n",
       "      <td>Tatuapé</td>\n",
       "    </tr>\n",
       "  </tbody>\n",
       "</table>\n",
       "<p>281 rows × 6 columns</p>\n",
       "</div>"
      ],
      "text/plain": [
       "              preço                             endereço    área    quartos  \\\n",
       "271      R$ 520.000  Rua Doutor Nicolau de Sousa Queirós   75 m²  2 quartos   \n",
       "308      R$ 460.000                        Rua Vergueiro   54 m²  2 quartos   \n",
       "320      R$ 580.000           Rua João Teixeira da Silva   76 m²  3 quartos   \n",
       "481      R$ 850.000          Rua Doutor Goulart Penteado  130 m²  3 quartos   \n",
       "551      R$ 550.000     Avenida Diógenes Ribeiro de Lima   54 m²  2 quartos   \n",
       "...             ...                                  ...     ...        ...   \n",
       "16220  R$ 1.700.000             Rua Manoel Antônio Pinto  420 m²  4 quartos   \n",
       "16346    R$ 450.000                  Rua Lessia Ukrainka   58 m²  2 quartos   \n",
       "16377    R$ 830.000                   Rua Doutor Seng 28   98 m²  2 quartos   \n",
       "16378    R$ 490.000                Rua Benedito Faber 29   67 m²  3 quartos   \n",
       "16379    R$ 355.000             Rua Caetano de Campos 80   50 m²  2 quartos   \n",
       "\n",
       "          vagas              bairro  \n",
       "271    Sem vaga           Aclimação  \n",
       "308    Sem vaga           Aclimação  \n",
       "320     2 vagas           Água Rasa  \n",
       "481     3 vagas           Água Rasa  \n",
       "551      1 vaga   Alto De Pinheiros  \n",
       "...         ...                 ...  \n",
       "16220   4 vagas          Vila Sônia  \n",
       "16346    1 vaga          Vila Sônia  \n",
       "16377    1 vaga          Bela Vista  \n",
       "16378    1 vaga        Vila Andrade  \n",
       "16379   2 vagas             Tatuapé  \n",
       "\n",
       "[281 rows x 6 columns]"
      ]
     },
     "execution_count": 6,
     "metadata": {},
     "output_type": "execute_result"
    }
   ],
   "source": [
    "dados[dados.duplicated(subset=['preço', 'endereço', 'área', 'quartos', 'vagas', 'bairro'])]"
   ]
  },
  {
   "cell_type": "code",
   "execution_count": 7,
   "metadata": {},
   "outputs": [],
   "source": [
    "dados = dados.drop_duplicates(subset=['preço', 'endereço', 'área', 'quartos', 'vagas', 'bairro'],keep=\"first\")"
   ]
  },
  {
   "cell_type": "code",
   "execution_count": 8,
   "metadata": {},
   "outputs": [
    {
     "name": "stdout",
     "output_type": "stream",
     "text": [
      "<class 'pandas.core.frame.DataFrame'>\n",
      "Int64Index: 16099 entries, 0 to 16376\n",
      "Data columns (total 6 columns):\n",
      " #   Column    Non-Null Count  Dtype \n",
      "---  ------    --------------  ----- \n",
      " 0   preço     16099 non-null  object\n",
      " 1   endereço  16099 non-null  object\n",
      " 2   área      16099 non-null  object\n",
      " 3   quartos   16099 non-null  object\n",
      " 4   vagas     16099 non-null  object\n",
      " 5   bairro    16099 non-null  object\n",
      "dtypes: object(6)\n",
      "memory usage: 880.4+ KB\n"
     ]
    }
   ],
   "source": [
    "dados.info()"
   ]
  },
  {
   "cell_type": "code",
   "execution_count": 9,
   "metadata": {},
   "outputs": [
    {
     "name": "stderr",
     "output_type": "stream",
     "text": [
      "<ipython-input-9-585834a7182b>:1: FutureWarning: The default value of regex will change from True to False in a future version. In addition, single character regular expressions will*not* be treated as literal strings when regex=True.\n",
      "  dados['preço'] = dados['preço'].str.split(\" \").str[1].str.replace(\".\", \"\").str.replace(\",\", \".\").astype(float)\n"
     ]
    }
   ],
   "source": [
    "dados['preço'] = dados['preço'].str.split(\" \").str[1].str.replace(\".\", \"\").str.replace(\",\", \".\").astype(float)"
   ]
  },
  {
   "cell_type": "code",
   "execution_count": 10,
   "metadata": {},
   "outputs": [
    {
     "name": "stdout",
     "output_type": "stream",
     "text": [
      "<class 'pandas.core.frame.DataFrame'>\n",
      "Int64Index: 16099 entries, 0 to 16376\n",
      "Data columns (total 6 columns):\n",
      " #   Column    Non-Null Count  Dtype  \n",
      "---  ------    --------------  -----  \n",
      " 0   preço     16099 non-null  float64\n",
      " 1   endereço  16099 non-null  object \n",
      " 2   área      16099 non-null  object \n",
      " 3   quartos   16099 non-null  object \n",
      " 4   vagas     16099 non-null  object \n",
      " 5   bairro    16099 non-null  object \n",
      "dtypes: float64(1), object(5)\n",
      "memory usage: 880.4+ KB\n"
     ]
    }
   ],
   "source": [
    "dados.info()"
   ]
  },
  {
   "cell_type": "code",
   "execution_count": 11,
   "metadata": {},
   "outputs": [],
   "source": [
    "dados['área'] = dados['área'].str.split(\" \").str[0].astype(int)"
   ]
  },
  {
   "cell_type": "code",
   "execution_count": 12,
   "metadata": {},
   "outputs": [
    {
     "name": "stdout",
     "output_type": "stream",
     "text": [
      "<class 'pandas.core.frame.DataFrame'>\n",
      "Int64Index: 16099 entries, 0 to 16376\n",
      "Data columns (total 6 columns):\n",
      " #   Column    Non-Null Count  Dtype  \n",
      "---  ------    --------------  -----  \n",
      " 0   preço     16099 non-null  float64\n",
      " 1   endereço  16099 non-null  object \n",
      " 2   área      16099 non-null  int64  \n",
      " 3   quartos   16099 non-null  object \n",
      " 4   vagas     16099 non-null  object \n",
      " 5   bairro    16099 non-null  object \n",
      "dtypes: float64(1), int64(1), object(4)\n",
      "memory usage: 880.4+ KB\n"
     ]
    }
   ],
   "source": [
    "dados.info()"
   ]
  },
  {
   "cell_type": "code",
   "execution_count": 13,
   "metadata": {},
   "outputs": [],
   "source": [
    "dados.columns = ['preço (R$)', 'endereço', 'área (m2)', 'quartos', 'vagas', 'bairro']"
   ]
  },
  {
   "cell_type": "code",
   "execution_count": 14,
   "metadata": {},
   "outputs": [
    {
     "name": "stdout",
     "output_type": "stream",
     "text": [
      "<class 'pandas.core.frame.DataFrame'>\n",
      "Int64Index: 16099 entries, 0 to 16376\n",
      "Data columns (total 6 columns):\n",
      " #   Column      Non-Null Count  Dtype  \n",
      "---  ------      --------------  -----  \n",
      " 0   preço (R$)  16099 non-null  float64\n",
      " 1   endereço    16099 non-null  object \n",
      " 2   área (m2)   16099 non-null  int64  \n",
      " 3   quartos     16099 non-null  object \n",
      " 4   vagas       16099 non-null  object \n",
      " 5   bairro      16099 non-null  object \n",
      "dtypes: float64(1), int64(1), object(4)\n",
      "memory usage: 880.4+ KB\n"
     ]
    }
   ],
   "source": [
    "dados.info()"
   ]
  },
  {
   "cell_type": "code",
   "execution_count": 15,
   "metadata": {},
   "outputs": [
    {
     "data": {
      "text/plain": [
       "array(['3 quartos', '4 quartos', 'Studio', '2 quartos', '1 quarto',\n",
       "       '6 quartos', '5 quartos', '7 quartos'], dtype=object)"
      ]
     },
     "execution_count": 15,
     "metadata": {},
     "output_type": "execute_result"
    }
   ],
   "source": [
    "dados['quartos'].unique()"
   ]
  },
  {
   "cell_type": "code",
   "execution_count": 16,
   "metadata": {},
   "outputs": [],
   "source": [
    "dados['quartos'] = dados['quartos'].str.replace(\"Studio\", \"0 quartos\").str.split(\" \").str[0].astype(int)"
   ]
  },
  {
   "cell_type": "code",
   "execution_count": 17,
   "metadata": {},
   "outputs": [
    {
     "data": {
      "text/plain": [
       "array([3, 4, 0, 2, 1, 6, 5, 7])"
      ]
     },
     "execution_count": 17,
     "metadata": {},
     "output_type": "execute_result"
    }
   ],
   "source": [
    "dados['quartos'].unique()"
   ]
  },
  {
   "cell_type": "code",
   "execution_count": 18,
   "metadata": {},
   "outputs": [
    {
     "name": "stdout",
     "output_type": "stream",
     "text": [
      "<class 'pandas.core.frame.DataFrame'>\n",
      "Int64Index: 16099 entries, 0 to 16376\n",
      "Data columns (total 6 columns):\n",
      " #   Column      Non-Null Count  Dtype  \n",
      "---  ------      --------------  -----  \n",
      " 0   preço (R$)  16099 non-null  float64\n",
      " 1   endereço    16099 non-null  object \n",
      " 2   área (m2)   16099 non-null  int64  \n",
      " 3   quartos     16099 non-null  int64  \n",
      " 4   vagas       16099 non-null  object \n",
      " 5   bairro      16099 non-null  object \n",
      "dtypes: float64(1), int64(2), object(3)\n",
      "memory usage: 880.4+ KB\n"
     ]
    }
   ],
   "source": [
    "dados.info()"
   ]
  },
  {
   "cell_type": "code",
   "execution_count": 19,
   "metadata": {},
   "outputs": [
    {
     "data": {
      "text/plain": [
       "array(['2 vagas', '3 vagas', '1 vaga', 'Sem vaga', '6 vagas', '4 vagas',\n",
       "       '5 vagas', '7 vagas'], dtype=object)"
      ]
     },
     "execution_count": 19,
     "metadata": {},
     "output_type": "execute_result"
    }
   ],
   "source": [
    "dados['vagas'].unique()"
   ]
  },
  {
   "cell_type": "code",
   "execution_count": 20,
   "metadata": {},
   "outputs": [],
   "source": [
    "dados['vagas'] = dados['vagas'].str.replace(\"Sem vaga\", \"0 vagas\").str.split(\" \").str[0].astype(int)"
   ]
  },
  {
   "cell_type": "code",
   "execution_count": 21,
   "metadata": {},
   "outputs": [
    {
     "data": {
      "text/plain": [
       "array([2, 3, 1, 0, 6, 4, 5, 7])"
      ]
     },
     "execution_count": 21,
     "metadata": {},
     "output_type": "execute_result"
    }
   ],
   "source": [
    "dados['vagas'].unique()"
   ]
  },
  {
   "cell_type": "code",
   "execution_count": 22,
   "metadata": {},
   "outputs": [
    {
     "name": "stdout",
     "output_type": "stream",
     "text": [
      "<class 'pandas.core.frame.DataFrame'>\n",
      "Int64Index: 16099 entries, 0 to 16376\n",
      "Data columns (total 6 columns):\n",
      " #   Column      Non-Null Count  Dtype  \n",
      "---  ------      --------------  -----  \n",
      " 0   preço (R$)  16099 non-null  float64\n",
      " 1   endereço    16099 non-null  object \n",
      " 2   área (m2)   16099 non-null  int64  \n",
      " 3   quartos     16099 non-null  int64  \n",
      " 4   vagas       16099 non-null  int64  \n",
      " 5   bairro      16099 non-null  object \n",
      "dtypes: float64(1), int64(3), object(2)\n",
      "memory usage: 880.4+ KB\n"
     ]
    }
   ],
   "source": [
    "dados.info()"
   ]
  },
  {
   "cell_type": "code",
   "execution_count": 23,
   "metadata": {},
   "outputs": [
    {
     "data": {
      "text/html": [
       "<div>\n",
       "<style scoped>\n",
       "    .dataframe tbody tr th:only-of-type {\n",
       "        vertical-align: middle;\n",
       "    }\n",
       "\n",
       "    .dataframe tbody tr th {\n",
       "        vertical-align: top;\n",
       "    }\n",
       "\n",
       "    .dataframe thead th {\n",
       "        text-align: right;\n",
       "    }\n",
       "</style>\n",
       "<table border=\"1\" class=\"dataframe\">\n",
       "  <thead>\n",
       "    <tr style=\"text-align: right;\">\n",
       "      <th></th>\n",
       "      <th>preço (R$)</th>\n",
       "      <th>endereço</th>\n",
       "      <th>área (m2)</th>\n",
       "      <th>quartos</th>\n",
       "      <th>vagas</th>\n",
       "      <th>bairro</th>\n",
       "    </tr>\n",
       "  </thead>\n",
       "  <tbody>\n",
       "    <tr>\n",
       "      <th>0</th>\n",
       "      <td>1295000.0</td>\n",
       "      <td>Rua Paula Ney</td>\n",
       "      <td>94</td>\n",
       "      <td>3</td>\n",
       "      <td>2</td>\n",
       "      <td>Aclimação</td>\n",
       "    </tr>\n",
       "    <tr>\n",
       "      <th>1</th>\n",
       "      <td>1410000.0</td>\n",
       "      <td>Rua Castro Alves</td>\n",
       "      <td>195</td>\n",
       "      <td>4</td>\n",
       "      <td>3</td>\n",
       "      <td>Aclimação</td>\n",
       "    </tr>\n",
       "    <tr>\n",
       "      <th>2</th>\n",
       "      <td>899000.0</td>\n",
       "      <td>Rua Urano</td>\n",
       "      <td>118</td>\n",
       "      <td>3</td>\n",
       "      <td>2</td>\n",
       "      <td>Aclimação</td>\n",
       "    </tr>\n",
       "    <tr>\n",
       "      <th>3</th>\n",
       "      <td>540000.0</td>\n",
       "      <td>Rua Álvaro Guimarães</td>\n",
       "      <td>29</td>\n",
       "      <td>0</td>\n",
       "      <td>1</td>\n",
       "      <td>Aclimação</td>\n",
       "    </tr>\n",
       "    <tr>\n",
       "      <th>4</th>\n",
       "      <td>1175000.0</td>\n",
       "      <td>Rua Bartolomeu de Gusmão</td>\n",
       "      <td>135</td>\n",
       "      <td>4</td>\n",
       "      <td>2</td>\n",
       "      <td>Aclimação</td>\n",
       "    </tr>\n",
       "  </tbody>\n",
       "</table>\n",
       "</div>"
      ],
      "text/plain": [
       "   preço (R$)                  endereço  área (m2)  quartos  vagas      bairro\n",
       "0   1295000.0             Rua Paula Ney         94        3      2   Aclimação\n",
       "1   1410000.0          Rua Castro Alves        195        4      3   Aclimação\n",
       "2    899000.0                 Rua Urano        118        3      2   Aclimação\n",
       "3    540000.0      Rua Álvaro Guimarães         29        0      1   Aclimação\n",
       "4   1175000.0  Rua Bartolomeu de Gusmão        135        4      2   Aclimação"
      ]
     },
     "execution_count": 23,
     "metadata": {},
     "output_type": "execute_result"
    }
   ],
   "source": [
    "dados.head()"
   ]
  },
  {
   "cell_type": "code",
   "execution_count": 24,
   "metadata": {},
   "outputs": [
    {
     "data": {
      "text/plain": [
       "0                rua paula ney\n",
       "1             rua castro alves\n",
       "2                    rua urano\n",
       "3         rua alvaro guimaraes\n",
       "4     rua bartolomeu de gusmao\n",
       "5          rua rodrigo claudio\n",
       "6          rua rodrigo claudio\n",
       "7         rua machado de assis\n",
       "8         rua machado de assis\n",
       "9                rua paula ney\n",
       "10            rua dona brigida\n",
       "11         rua gaspar lourenco\n",
       "12         rua gregorio serrao\n",
       "13               rua paula ney\n",
       "14            rua carlos petit\n",
       "15               rua paula ney\n",
       "16         rua rodrigo claudio\n",
       "17          rua almeida torres\n",
       "18            rua carlos petit\n",
       "19                    rua nilo\n",
       "Name: endereço, dtype: object"
      ]
     },
     "execution_count": 24,
     "metadata": {},
     "output_type": "execute_result"
    }
   ],
   "source": [
    "dados['endereço'] = dados['endereço'].str.lstrip().str.lower().str.normalize('NFKD').str.encode('ascii',errors='ignore').str.decode('utf8')\n",
    "dados['endereço'].head(20)"
   ]
  },
  {
   "cell_type": "code",
   "execution_count": 25,
   "metadata": {},
   "outputs": [
    {
     "data": {
      "text/plain": [
       "array(['aclimacao', 'bom retiro', 'agua rasa', 'alto da lapa',\n",
       "       'alto de pinheiros', 'aricanduva', 'artur alvim', 'barra funda',\n",
       "       'bela vista', 'belem', 'bras', 'brasilandia', 'brooklin',\n",
       "       'butanta', 'cachoeirinha', 'cambuci', 'campo belo', 'campo grande',\n",
       "       'campo limpo', 'cangaiba', 'capao redondo', 'carrao', 'casa verde',\n",
       "       'chacara klabin', 'cidade ademar', 'cidade dutra', 'cidade lider',\n",
       "       'cursino', 'vila andrade', 'higienopolis', 'ermelino matarazzo',\n",
       "       'freguesia do o', 'guaianases', 'ipiranga', 'itaim bibi',\n",
       "       'itaim nobre', 'jabaquara', 'jacana', 'jaguara', 'jaguare',\n",
       "       'jaragua', 'jardim america', 'jardim angela', 'jardim europa',\n",
       "       'jardim helena', 'jardim paulista', 'jardim paulistano',\n",
       "       'jardim sao luis', 'jose bonifacio', 'lajeado', 'lapa',\n",
       "       'liberdade', 'limao', 'mandaqui', 'moema indios', 'moema passaros',\n",
       "       'mooca', 'morumbi', 'paraiso', 'pari', 'parque do carmo',\n",
       "       'pedreira', 'penha', 'perdizes', 'pinheiros', 'pirituba',\n",
       "       'ponte rasa', 'raposo tavares', 'republica', 'rio pequeno',\n",
       "       'sacoma', 'santa cecilia', 'santana', 'santo amaro',\n",
       "       'vila clementino', 'sao domingos', 'sao lucas', 'sao mateus',\n",
       "       'sapopemba', 'saude', 'se', 'socorro', 'sumare', 'tatuape',\n",
       "       'tremembe', 'tucuruvi', 'vila formosa', 'vila guilherme',\n",
       "       'vila leopoldina', 'vila madalena', 'vila maria', 'vila mariana',\n",
       "       'vila matilde', 'vila medeiros', 'vila nova conceicao',\n",
       "       'vila olimpia', 'vila prudente', 'vila romana', 'vila sonia'],\n",
       "      dtype=object)"
      ]
     },
     "execution_count": 25,
     "metadata": {},
     "output_type": "execute_result"
    }
   ],
   "source": [
    "dados['bairro'] = dados['bairro'].str.lstrip().str.lower().str.normalize('NFKD').str.encode('ascii',errors='ignore').str.decode('utf8')\n",
    "dados['bairro'].unique()"
   ]
  },
  {
   "cell_type": "code",
   "execution_count": 26,
   "metadata": {},
   "outputs": [
    {
     "data": {
      "text/plain": [
       "array(['aclimacao', 'bom retiro', 'agua rasa', 'alto da lapa',\n",
       "       'alto de pinheiros', 'aricanduva', 'artur alvim', 'barra funda',\n",
       "       'bela vista', 'belem', 'bras', 'brasilandia', 'brooklin',\n",
       "       'butanta', 'cachoeirinha', 'cambuci', 'campo belo', 'campo grande',\n",
       "       'campo limpo', 'cangaiba', 'capao redondo', 'carrao', 'casa verde',\n",
       "       'chacara klabin', 'cidade ademar', 'cidade dutra', 'cidade lider',\n",
       "       'cursino', 'vila andrade', 'higienopolis', 'ermelino matarazzo',\n",
       "       'freguesia do o', 'guaianases', 'ipiranga', 'itaim bibi',\n",
       "       'itaim nobre', 'jabaquara', 'jacana', 'jaguara', 'jaguare',\n",
       "       'jaragua', 'jardim america', 'jardim angela', 'jardim europa',\n",
       "       'jardim helena', 'jardim paulista', 'jardim paulistano',\n",
       "       'jardim sao luis', 'jose bonifacio', 'lajeado', 'lapa',\n",
       "       'liberdade', 'limao', 'mandaqui', 'moema indios', 'moema passaros',\n",
       "       'mooca', 'morumbi', 'paraiso', 'pari', 'parque do carmo',\n",
       "       'pedreira', 'penha', 'perdizes', 'pinheiros', 'pirituba',\n",
       "       'ponte rasa', 'raposo tavares', 'republica', 'rio pequeno',\n",
       "       'sacoma', 'santa cecilia', 'santana', 'santo amaro',\n",
       "       'vila clementino', 'sao domingos', 'sao lucas', 'sao mateus',\n",
       "       'sapopemba', 'saude', 'se', 'socorro', 'sumare', 'tatuape',\n",
       "       'tremembe', 'tucuruvi', 'vila formosa', 'vila guilherme',\n",
       "       'vila leopoldina', 'vila madalena', 'vila maria', 'vila mariana',\n",
       "       'vila matilde', 'vila medeiros', 'vila nova conceicao',\n",
       "       'vila olimpia', 'vila prudente', 'vila romana', 'vila sonia'],\n",
       "      dtype=object)"
      ]
     },
     "execution_count": 26,
     "metadata": {},
     "output_type": "execute_result"
    }
   ],
   "source": [
    "dados['bairro'].unique()"
   ]
  },
  {
   "cell_type": "code",
   "execution_count": 27,
   "metadata": {},
   "outputs": [
    {
     "data": {
      "text/plain": [
       "array(['aclimacao', 'bom retiro', 'agua rasa', 'alto da lapa',\n",
       "       'alto de pinheiros', 'aricanduva', 'artur alvim', 'barra funda',\n",
       "       'bela vista', 'belem', 'bras', 'brasilandia', 'brooklin',\n",
       "       'butanta', 'cachoeirinha', 'cambuci', 'campo belo', 'campo grande',\n",
       "       'campo limpo', 'cangaiba', 'capao redondo', 'carrao', 'casa verde',\n",
       "       'chacara klabin', 'cidade ademar', 'cidade dutra', 'cidade lider',\n",
       "       'cursino', 'vila andrade', 'higienopolis', 'ermelino matarazzo',\n",
       "       'freguesia do o', 'guaianases', 'ipiranga', 'itaim bibi',\n",
       "       'itaim nobre', 'jabaquara', 'jacana', 'jaguara', 'jaguare',\n",
       "       'jaragua', 'jardim america', 'jardim angela', 'jardim europa',\n",
       "       'jardim helena', 'jardim paulista', 'jardim paulistano',\n",
       "       'jardim sao luis', 'jose bonifacio', 'lajeado', 'lapa',\n",
       "       'liberdade', 'limao', 'mandaqui', 'moema indios', 'moema passaros',\n",
       "       'mooca', 'morumbi', 'paraiso', 'pari', 'parque do carmo',\n",
       "       'pedreira', 'penha', 'perdizes', 'pinheiros', 'pirituba',\n",
       "       'ponte rasa', 'raposo tavares', 'republica', 'rio pequeno',\n",
       "       'sacoma', 'santa cecilia', 'santana', 'santo amaro',\n",
       "       'vila clementino', 'sao domingos', 'sao lucas', 'sao mateus',\n",
       "       'sapopemba', 'saude', 'se', 'socorro', 'sumare', 'tatuape',\n",
       "       'tremembe', 'tucuruvi', 'vila formosa', 'vila guilherme',\n",
       "       'vila leopoldina', 'vila madalena', 'vila maria', 'vila mariana',\n",
       "       'vila matilde', 'vila medeiros', 'vila nova conceicao',\n",
       "       'vila olimpia', 'vila prudente', 'vila romana', 'vila sonia'],\n",
       "      dtype=object)"
      ]
     },
     "execution_count": 27,
     "metadata": {},
     "output_type": "execute_result"
    }
   ],
   "source": [
    "dados['bairro'] = dados['bairro'].str.lstrip().str.lower().str.normalize('NFKD').str.encode('ascii',errors='ignore').str.decode('utf8')\n",
    "dados['bairro'].unique()"
   ]
  },
  {
   "cell_type": "code",
   "execution_count": 28,
   "metadata": {},
   "outputs": [
    {
     "name": "stdout",
     "output_type": "stream",
     "text": [
      "<class 'pandas.core.frame.DataFrame'>\n",
      "RangeIndex: 16099 entries, 0 to 16098\n",
      "Data columns (total 6 columns):\n",
      " #   Column      Non-Null Count  Dtype  \n",
      "---  ------      --------------  -----  \n",
      " 0   preço (R$)  16099 non-null  float64\n",
      " 1   endereço    16099 non-null  object \n",
      " 2   área (m2)   16099 non-null  int64  \n",
      " 3   quartos     16099 non-null  int64  \n",
      " 4   vagas       16099 non-null  int64  \n",
      " 5   bairro      16099 non-null  object \n",
      "dtypes: float64(1), int64(3), object(2)\n",
      "memory usage: 754.8+ KB\n"
     ]
    }
   ],
   "source": [
    "dados = dados.reset_index(drop=True)\n",
    "dados.info()"
   ]
  },
  {
   "cell_type": "code",
   "execution_count": 29,
   "metadata": {},
   "outputs": [],
   "source": [
    "dados.to_csv(r'/Users/leuzinger/Dropbox/Data Science/Awari/Web Scraping/Loft/Dados_ap_clean.csv',index=False)"
   ]
  },
  {
   "cell_type": "code",
   "execution_count": 32,
   "metadata": {},
   "outputs": [],
   "source": [
    "#dados.loc[(dados['bairro'] == 'vila madalena') & (dados['quartos'] == 2),'preço (R$)'].mean()"
   ]
  }
 ],
 "metadata": {
  "kernelspec": {
   "display_name": "Python 3",
   "language": "python",
   "name": "python3"
  },
  "language_info": {
   "codemirror_mode": {
    "name": "ipython",
    "version": 3
   },
   "file_extension": ".py",
   "mimetype": "text/x-python",
   "name": "python",
   "nbconvert_exporter": "python",
   "pygments_lexer": "ipython3",
   "version": "3.8.5"
  }
 },
 "nbformat": 4,
 "nbformat_minor": 4
}
